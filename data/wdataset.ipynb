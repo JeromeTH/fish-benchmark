{
 "cells": [
  {
   "cell_type": "code",
   "execution_count": null,
   "metadata": {},
   "outputs": [],
   "source": [
    "import os\n",
    "path = \"/share/j_sun/jth264/sample_fish_data/training\" \n",
    "dataset = \"SR_070723_GH030275-000000..000099.tar\"\n",
    "url = os.path.join(path, dataset)\n",
    "tar_files = [os.path.join(path, tarfile) for tarfile in os.listdir(path)]\n",
    "\n"
   ]
  },
  {
   "cell_type": "code",
   "execution_count": null,
   "metadata": {},
   "outputs": [],
   "source": [
    "tar_files"
   ]
  },
  {
   "cell_type": "code",
   "execution_count": null,
   "metadata": {},
   "outputs": [],
   "source": [
    "#check what is inside the tar file\n",
    "import tarfile\n",
    "with tarfile.open(url, 'r') as tar:\n",
    "    tar.extractall(path=path)\n",
    "    print(tar.getnames())"
   ]
  },
  {
   "cell_type": "code",
   "execution_count": null,
   "metadata": {},
   "outputs": [],
   "source": [
    "# #print content of the json file\n",
    "# import json\n",
    "# with tarfile.open(url, 'r') as tar:\n",
    "#     tar.extractall(path=path)\n",
    "#     print(tar.getnames())\n",
    "#     json_file = [name for name in tar.getnames() if name.endswith('.json')][0]\n",
    "#     with tar.extractfile(json_file) as f:\n",
    "#         data = json.load(f)\n",
    "#         print(json.dumps(data, indent=4))\n"
   ]
  },
  {
   "cell_type": "code",
   "execution_count": null,
   "metadata": {},
   "outputs": [],
   "source": [
    "import webdataset as wds"
   ]
  },
  {
   "cell_type": "code",
   "execution_count": null,
   "metadata": {},
   "outputs": [],
   "source": [
    "print(wds.__version__)\n"
   ]
  },
  {
   "cell_type": "code",
   "execution_count": null,
   "metadata": {},
   "outputs": [],
   "source": [
    "shuffle_buffer = 10  # usually, pick something bigger, like 1000\n",
    "pil_dataset = wds.WebDataset(tar_files).shuffle(shuffle_buffer).decode(\"pil\").to_tuple(\"png\", \"json\")"
   ]
  },
  {
   "cell_type": "code",
   "execution_count": null,
   "metadata": {},
   "outputs": [],
   "source": [
    "import torch\n",
    "isinstance(pil_dataset, torch.utils.data.IterableDataset)\n"
   ]
  },
  {
   "cell_type": "code",
   "execution_count": null,
   "metadata": {},
   "outputs": [],
   "source": [
    "type(pil_dataset)"
   ]
  },
  {
   "cell_type": "code",
   "execution_count": null,
   "metadata": {},
   "outputs": [],
   "source": [
    "for image, json_data in pil_dataset:\n",
    "    break\n",
    "type(image)"
   ]
  },
  {
   "cell_type": "code",
   "execution_count": null,
   "metadata": {},
   "outputs": [],
   "source": [
    "import json\n",
    "json_data['events'][0]['behavior']['name']"
   ]
  },
  {
   "cell_type": "code",
   "execution_count": null,
   "metadata": {},
   "outputs": [],
   "source": [
    "image_path = \"SR_070723_GH030275_000033.png\"\n",
    "from PIL import Image\n",
    "image = Image.open(os.path.join(path, image_path))\n",
    "image"
   ]
  },
  {
   "cell_type": "code",
   "execution_count": null,
   "metadata": {},
   "outputs": [],
   "source": [
    "event_lens = []\n",
    "id = 0\n",
    "for image, json_data in pil_dataset:\n",
    "    print(len(json_data['events']))\n",
    "    event_lens.append(len(json_data['events']))\n",
    "    id += 1\n",
    "    if id % 100==0:\n",
    "        print(id)\n",
    "    if id > 1000:\n",
    "        break\n",
    "import matplotlib.pyplot as plt\n",
    "plt.hist(event_lens, bins=100)"
   ]
  },
  {
   "cell_type": "code",
   "execution_count": null,
   "metadata": {},
   "outputs": [],
   "source": []
  }
 ],
 "metadata": {
  "kernelspec": {
   "display_name": "Python 3",
   "language": "python",
   "name": "python3"
  },
  "language_info": {
   "codemirror_mode": {
    "name": "ipython",
    "version": 3
   },
   "file_extension": ".py",
   "mimetype": "text/x-python",
   "name": "python",
   "nbconvert_exporter": "python",
   "pygments_lexer": "ipython3",
   "version": "3.12.9"
  }
 },
 "nbformat": 4,
 "nbformat_minor": 2
}
