{
 "cells": [
  {
   "cell_type": "code",
   "execution_count": 4,
   "metadata": {},
   "outputs": [],
   "source": [
    "import os\n",
    "# os.rename(\"/share/j_sun/jth264/bites_frame_annotation_splitted\", \"/share/j_sun/jth264/mike\")"
   ]
  },
  {
   "cell_type": "code",
   "execution_count": null,
   "metadata": {},
   "outputs": [],
   "source": [
    "os.makedirs(\"/share/j_sun/jth264/precomputed/mike_frames_patched/test/labels\", exist_ok=True)\n",
    "# os.rename(\"/share/j_sun/jth264/precomputed/mike_frames_patched/test/AT_070523_GH010367/inputs\", \n",
    "#     \"/share/j_sun/jth264/precomputed/mike_frames_patched/test/inputs/AT_070523_GH010367\")\n",
    "os.rename(\"/share/j_sun/jth264/precomputed/mike_frames_patched/test/AT_070523_GH010367/labels\", \n",
    "          \"/share/j_sun/jth264/precomputed/mike_frames_patched/test/labels/AT_070523_GH010367\")"
   ]
  },
  {
   "cell_type": "code",
   "execution_count": 13,
   "metadata": {},
   "outputs": [],
   "source": [
    "\n",
    "for file_name in os.listdir(\"/share/j_sun/jth264/precomputed/mike_frames_patched/test\"):\n",
    "    if file_name in [\"inputs\", \"labels\"]:\n",
    "        continue\n",
    "    \n",
    "    os.makedirs(\"/share/j_sun/jth264/precomputed/mike_frames_patched/test/labels\", exist_ok=True)\n",
    "    old_labels_path = f\"/share/j_sun/jth264/precomputed/mike_frames_patched/test/{file_name}/labels\"\n",
    "    if os.path.exists(old_labels_path):\n",
    "        os.rename(old_labels_path, f\"/share/j_sun/jth264/precomputed/mike_frames_patched/test/labels/{file_name}\")\n",
    "    os.makedirs(\"/share/j_sun/jth264/precomputed/mike_frames_patched/test/inputs\", exist_ok=True)\n",
    "    old_inputs_path = f\"/share/j_sun/jth264/precomputed/mike_frames_patched/test/{file_name}/inputs\"\n",
    "    if os.path.exists(old_inputs_path):\n",
    "        os.rename(old_inputs_path, f\"/share/j_sun/jth264/precomputed/mike_frames_patched/test/inputs/{file_name}\")"
   ]
  },
  {
   "cell_type": "code",
   "execution_count": 15,
   "metadata": {},
   "outputs": [],
   "source": [
    "#delete the empty folders\n",
    "for file_name in os.listdir(\"/share/j_sun/jth264/precomputed/mike_frames_patched/test\"):\n",
    "    if file_name in [\"inputs\", \"labels\"]:\n",
    "        continue\n",
    "    os.rmdir(f\"/share/j_sun/jth264/precomputed/mike_frames_patched/test/{file_name}\")"
   ]
  }
 ],
 "metadata": {
  "kernelspec": {
   "display_name": "benchmark",
   "language": "python",
   "name": "python3"
  },
  "language_info": {
   "codemirror_mode": {
    "name": "ipython",
    "version": 3
   },
   "file_extension": ".py",
   "mimetype": "text/x-python",
   "name": "python",
   "nbconvert_exporter": "python",
   "pygments_lexer": "ipython3",
   "version": "3.12.9"
  }
 },
 "nbformat": 4,
 "nbformat_minor": 2
}
