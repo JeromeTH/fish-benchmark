{
 "cells": [
  {
   "cell_type": "code",
   "execution_count": 4,
   "metadata": {},
   "outputs": [],
   "source": [
    "import os\n",
    "# os.rename(\"/share/j_sun/jth264/bites_frame_annotation_splitted\", \"/share/j_sun/jth264/mike\")"
   ]
  },
  {
   "cell_type": "code",
   "execution_count": null,
   "metadata": {},
   "outputs": [],
   "source": [
    "os.makedirs(\"/share/j_sun/jth264/precomputed/mike_frames_patched/test/labels\", exist_ok=True)\n",
    "# os.rename(\"/share/j_sun/jth264/precomputed/mike_frames_patched/test/AT_070523_GH010367/inputs\", \n",
    "#     \"/share/j_sun/jth264/precomputed/mike_frames_patched/test/inputs/AT_070523_GH010367\")\n",
    "os.rename(\"/share/j_sun/jth264/precomputed/mike_frames_patched/test/AT_070523_GH010367/labels\", \n",
    "          \"/share/j_sun/jth264/precomputed/mike_frames_patched/test/labels/AT_070523_GH010367\")"
   ]
  },
  {
   "cell_type": "code",
   "execution_count": 13,
   "metadata": {},
   "outputs": [],
   "source": [
    "\n",
    "for file_name in os.listdir(\"/share/j_sun/jth264/precomputed/mike_frames_patched/test\"):\n",
    "    if file_name in [\"inputs\", \"labels\"]:\n",
    "        continue\n",
    "    \n",
    "    os.makedirs(\"/share/j_sun/jth264/precomputed/mike_frames_patched/test/labels\", exist_ok=True)\n",
    "    old_labels_path = f\"/share/j_sun/jth264/precomputed/mike_frames_patched/test/{file_name}/labels\"\n",
    "    if os.path.exists(old_labels_path):\n",
    "        os.rename(old_labels_path, f\"/share/j_sun/jth264/precomputed/mike_frames_patched/test/labels/{file_name}\")\n",
    "    os.makedirs(\"/share/j_sun/jth264/precomputed/mike_frames_patched/test/inputs\", exist_ok=True)\n",
    "    old_inputs_path = f\"/share/j_sun/jth264/precomputed/mike_frames_patched/test/{file_name}/inputs\"\n",
    "    if os.path.exists(old_inputs_path):\n",
    "        os.rename(old_inputs_path, f\"/share/j_sun/jth264/precomputed/mike_frames_patched/test/inputs/{file_name}\")"
   ]
  },
  {
   "cell_type": "code",
   "execution_count": 15,
   "metadata": {},
   "outputs": [],
   "source": [
    "#delete the empty folders\n",
    "for file_name in os.listdir(\"/share/j_sun/jth264/precomputed/mike_frames_patched/test\"):\n",
    "    if file_name in [\"inputs\", \"labels\"]:\n",
    "        continue\n",
    "    os.rmdir(f\"/share/j_sun/jth264/precomputed/mike_frames_patched/test/{file_name}\")"
   ]
  },
  {
   "cell_type": "code",
   "execution_count": 4,
   "metadata": {},
   "outputs": [],
   "source": [
    "for path in os.listdir(\"/share/j_sun/jth264/mikev2/train\"):\n",
    "    os.rename(f\"/share/j_sun/jth264/mikev2/train/{path}\", f\"/share/j_sun/jth264/mikev2/{path}\")"
   ]
  },
  {
   "cell_type": "code",
   "execution_count": 5,
   "metadata": {},
   "outputs": [],
   "source": [
    "import os \n",
    "PATH = \"/share/j_sun/jth264/mikev2\"\n",
    "\n",
    "subsets = os.listdir(PATH)\n",
    "l = len(subsets)\n",
    "os.makedirs(os.path.join(PATH, \"train\"), exist_ok=True)\n",
    "os.makedirs(os.path.join(PATH, \"test\"), exist_ok=True)\n",
    "for i in range(l):\n",
    "    subset = subsets[i]\n",
    "    if i < l * 0.9: \n",
    "        os.rename(os.path.join(PATH, subset), os.path.join(PATH, \"train\", subset))\n",
    "    else:\n",
    "        os.rename(os.path.join(PATH, subset), os.path.join(PATH, \"test\", subset))"
   ]
  },
  {
   "cell_type": "code",
   "execution_count": 13,
   "metadata": {},
   "outputs": [
    {
     "name": "stdout",
     "output_type": "stream",
     "text": [
      "GH020105.MP4\n",
      "GH020069.MP4\n",
      "GH020132.MP4\n",
      "GH020130.MP4\n",
      "GH030127.MP4\n",
      "GH010127.MP4\n",
      "GH010259.MP4\n",
      "GH030249.MP4\n",
      "GH010397.MP4\n",
      "GH010396.MP4\n",
      "GH023724.MP4\n",
      "GH018922.MP4\n",
      "GX010426.MP4\n",
      "GH020277.MP4\n",
      "GH010157.MP4\n",
      "GH013763.MP4\n",
      "GH010068.MP4\n",
      "GH010122.MP4\n",
      "GH010392.MP4\n",
      "GX010125.MP4\n",
      "GH020160.MP4\n",
      "GH020159.MP4\n",
      "GH020158.MP4\n",
      "GH030275.MP4\n",
      "GH010275.MP4\n",
      "GH020273.MP4\n",
      "GH023777.MP4\n",
      "GH030106.MP4\n",
      "GH010106.MP4\n",
      "GH030093.MP4\n",
      "GH010250.MP4\n",
      "GH030250.MP4\n",
      "GH020118.MP4\n",
      "GH010115.MP4\n",
      "GH030115.MP4\n",
      "GH020114.MP4\n",
      "GH020111.MP4\n",
      "GH013728.MP4\n",
      "GH023726.MP4\n",
      "GX027108.MP4\n",
      "GH010395.MP4\n",
      "GH010105.MP4\n",
      "GH010069.MP4\n",
      "GH010132.MP4\n",
      "GH010130.MP4\n",
      "GH020127.MP4\n",
      "GH020259.MP4\n",
      "GH010090.MP4\n",
      "GH010249.MP4\n",
      "GH020396.MP4\n",
      "GH013724.MP4\n",
      "GH028922.MP4\n",
      "GX020426.MP4\n",
      "GH010277.MP4\n",
      "GH010161.MP4\n",
      "GH010367.MP4\n",
      "GH013757.MP4\n",
      "GH010125.MP4\n",
      "GH010393.MP4\n",
      "GH013723.MP4\n",
      "GX010124.MP4\n",
      "GH010160.MP4\n",
      "GH010159.MP4\n",
      "GH010158.MP4\n",
      "GH020275.MP4\n",
      "GH030273.MP4\n",
      "GH010273.MP4\n",
      "GH013777.MP4\n",
      "GH020106.MP4\n",
      "GH020093.MP4\n",
      "GH010093.MP4\n",
      "GH020250.MP4\n",
      "GH010123.MP4\n",
      "GH010118.MP4\n",
      "GH020115.MP4\n",
      "GH010114.MP4\n",
      "GH010111.MP4\n",
      "GH030111.MP4\n",
      "GH023728.MP4\n",
      "GH013726.MP4\n",
      "GX017108.MP4\n"
     ]
    }
   ],
   "source": [
    "import re\n",
    "for root, dirs, files in os.walk(PATH):\n",
    "    for name in files:\n",
    "        if name.endswith(\".MP4\"):\n",
    "            id = name.split(\"_\")[0]\n",
    "            print(name)\n",
    "            # if bool(re.fullmatch(r'[A-Z]{2}\\d{6}', id)):\n",
    "            #     os.rename(os.path.join(root, name), os.path.join(root, f\"{id}.MP4\"))"
   ]
  }
 ],
 "metadata": {
  "kernelspec": {
   "display_name": "benchmark",
   "language": "python",
   "name": "python3"
  },
  "language_info": {
   "codemirror_mode": {
    "name": "ipython",
    "version": 3
   },
   "file_extension": ".py",
   "mimetype": "text/x-python",
   "name": "python",
   "nbconvert_exporter": "python",
   "pygments_lexer": "ipython3",
   "version": "3.12.9"
  }
 },
 "nbformat": 4,
 "nbformat_minor": 2
}
