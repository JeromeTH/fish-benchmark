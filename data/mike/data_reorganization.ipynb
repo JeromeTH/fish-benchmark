{
 "cells": [
  {
   "cell_type": "code",
   "execution_count": null,
   "metadata": {},
   "outputs": [],
   "source": [
    "import os\n",
    "# os.rename(\"/share/j_sun/jth264/bites_frame_annotation_splitted\", \"/share/j_sun/jth264/mike\")"
   ]
  },
  {
   "cell_type": "code",
   "execution_count": null,
   "metadata": {},
   "outputs": [],
   "source": [
    "os.makedirs(\"/share/j_sun/jth264/precomputed/mike_frames_patched/test/labels\", exist_ok=True)\n",
    "# os.rename(\"/share/j_sun/jth264/precomputed/mike_frames_patched/test/AT_070523_GH010367/inputs\", \n",
    "#     \"/share/j_sun/jth264/precomputed/mike_frames_patched/test/inputs/AT_070523_GH010367\")\n",
    "os.rename(\"/share/j_sun/jth264/precomputed/mike_frames_patched/test/AT_070523_GH010367/labels\", \n",
    "          \"/share/j_sun/jth264/precomputed/mike_frames_patched/test/labels/AT_070523_GH010367\")"
   ]
  },
  {
   "cell_type": "code",
   "execution_count": null,
   "metadata": {},
   "outputs": [],
   "source": [
    "\n",
    "for file_name in os.listdir(\"/share/j_sun/jth264/precomputed/mike_frames_patched/test\"):\n",
    "    if file_name in [\"inputs\", \"labels\"]:\n",
    "        continue\n",
    "    \n",
    "    os.makedirs(\"/share/j_sun/jth264/precomputed/mike_frames_patched/test/labels\", exist_ok=True)\n",
    "    old_labels_path = f\"/share/j_sun/jth264/precomputed/mike_frames_patched/test/{file_name}/labels\"\n",
    "    if os.path.exists(old_labels_path):\n",
    "        os.rename(old_labels_path, f\"/share/j_sun/jth264/precomputed/mike_frames_patched/test/labels/{file_name}\")\n",
    "    os.makedirs(\"/share/j_sun/jth264/precomputed/mike_frames_patched/test/inputs\", exist_ok=True)\n",
    "    old_inputs_path = f\"/share/j_sun/jth264/precomputed/mike_frames_patched/test/{file_name}/inputs\"\n",
    "    if os.path.exists(old_inputs_path):\n",
    "        os.rename(old_inputs_path, f\"/share/j_sun/jth264/precomputed/mike_frames_patched/test/inputs/{file_name}\")"
   ]
  },
  {
   "cell_type": "code",
   "execution_count": null,
   "metadata": {},
   "outputs": [],
   "source": [
    "#delete the empty folders\n",
    "for file_name in os.listdir(\"/share/j_sun/jth264/precomputed/mike_frames_patched/test\"):\n",
    "    if file_name in [\"inputs\", \"labels\"]:\n",
    "        continue\n",
    "    os.rmdir(f\"/share/j_sun/jth264/precomputed/mike_frames_patched/test/{file_name}\")"
   ]
  },
  {
   "cell_type": "code",
   "execution_count": null,
   "metadata": {},
   "outputs": [],
   "source": [
    "for path in os.listdir(\"/share/j_sun/jth264/mikev2/train\"):\n",
    "    os.rename(f\"/share/j_sun/jth264/mikev2/train/{path}\", f\"/share/j_sun/jth264/mikev2/{path}\")"
   ]
  },
  {
   "cell_type": "code",
   "execution_count": null,
   "metadata": {},
   "outputs": [],
   "source": [
    "import os \n",
    "PATH = \"/share/j_sun/jth264/mikev2\"\n",
    "\n",
    "subsets = os.listdir(PATH)\n",
    "l = len(subsets)\n",
    "os.makedirs(os.path.join(PATH, \"train\"), exist_ok=True)\n",
    "os.makedirs(os.path.join(PATH, \"test\"), exist_ok=True)\n",
    "for i in range(l):\n",
    "    subset = subsets[i]\n",
    "    if i < l * 0.9: \n",
    "        os.rename(os.path.join(PATH, subset), os.path.join(PATH, \"train\", subset))\n",
    "    else:\n",
    "        os.rename(os.path.join(PATH, subset), os.path.join(PATH, \"test\", subset))"
   ]
  },
  {
   "cell_type": "code",
   "execution_count": null,
   "metadata": {},
   "outputs": [],
   "source": [
    "import re\n",
    "for root, dirs, files in os.walk(PATH):\n",
    "    for name in files:\n",
    "        if name.endswith(\".MP4\"):\n",
    "            id = name.split(\"_\")[0]\n",
    "            print(name)\n",
    "            # if bool(re.fullmatch(r'[A-Z]{2}\\d{6}', id)):\n",
    "            #     os.rename(os.path.join(root, name), os.path.join(root, f\"{id}.MP4\"))"
   ]
  }
 ],
 "metadata": {
  "kernelspec": {
   "display_name": "Python 3",
   "language": "python",
   "name": "python3"
  },
  "language_info": {
   "codemirror_mode": {
    "name": "ipython",
    "version": 3
   },
   "file_extension": ".py",
   "mimetype": "text/x-python",
   "name": "python",
   "nbconvert_exporter": "python",
   "pygments_lexer": "ipython3",
   "version": "3.12.9"
  }
 },
 "nbformat": 4,
 "nbformat_minor": 2
}
