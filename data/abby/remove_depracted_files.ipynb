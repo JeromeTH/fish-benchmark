{
 "cells": [
  {
   "cell_type": "code",
   "execution_count": null,
   "id": "1ad37792",
   "metadata": {},
   "outputs": [],
   "source": [
    "PATH = '/share/j_sun/jth264/precomputed/abby/'\n",
    "import os\n",
    "import time\n",
    "from datetime import datetime, timedelta\n",
    "\n",
    "# Get midnight timestamp\n",
    "midnight = datetime.combine(datetime.today(), datetime.min.time()).timestamp()\n",
    "\n",
    "for root, dirs, files in os.walk(PATH):\n",
    "    for file in files:\n",
    "        path = os.path.join(root, file)\n",
    "        try:\n",
    "            ctime = os.path.getctime(path)\n",
    "            if ctime < midnight:\n",
    "                print(f\"Deleting: {path}\")\n",
    "                #os.remove(path)\n",
    "        except Exception as e:\n",
    "            print(f\"Error with file {path}: {e}\")\n"
   ]
  },
  {
   "cell_type": "code",
   "execution_count": 1,
   "id": "3e5ba957",
   "metadata": {},
   "outputs": [
    {
     "name": "stdout",
     "output_type": "stream",
     "text": [
      "Midnight timestamp: 1746331200.0\n"
     ]
    }
   ],
   "source": [
    "import os\n",
    "import time\n",
    "from datetime import datetime, timedelta\n",
    "\n",
    "midnight = datetime.combine(datetime.today(), datetime.min.time()).timestamp()\n",
    "print(f\"Midnight timestamp: {midnight}\")"
   ]
  }
 ],
 "metadata": {
  "kernelspec": {
   "display_name": "Python 3",
   "language": "python",
   "name": "python3"
  },
  "language_info": {
   "codemirror_mode": {
    "name": "ipython",
    "version": 3
   },
   "file_extension": ".py",
   "mimetype": "text/x-python",
   "name": "python",
   "nbconvert_exporter": "python",
   "pygments_lexer": "ipython3",
   "version": "3.12.9"
  }
 },
 "nbformat": 4,
 "nbformat_minor": 5
}
