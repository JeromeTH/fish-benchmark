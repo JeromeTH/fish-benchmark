{
 "cells": [
  {
   "cell_type": "code",
   "execution_count": null,
   "metadata": {},
   "outputs": [],
   "source": [
    "import os \n",
    "import re\n",
    "import uuid\n",
    "\n",
    "from fish_benchmark.utils import get_files_of_type\n",
    "SOURCE = \"/share/j_sun/jth264/abby/test/GX017042_clips_and_labels\"\n",
    "annotations = get_files_of_type(SOURCE, '.txt')\n",
    "videos = get_files_of_type(SOURCE, '.mp4')\n",
    "print(videos)"
   ]
  },
  {
   "cell_type": "code",
   "execution_count": null,
   "metadata": {},
   "outputs": [],
   "source": [
    "# <video_id>.txt\n",
    "label_dict = {\n",
    "                os.path.splitext(os.path.basename(p))[0]: p\n",
    "                for p in annotations\n",
    "}\n",
    "for video_path in videos: \n",
    "    video_name = os.path.splitext(os.path.basename(video_path))[0]\n",
    "    if video_name not in label_dict:\n",
    "        print(f\"Missing annotation for {video_name}\")\n",
    "        continue\n",
    "    label_path = label_dict[video_name]\n",
    "    id = uuid.uuid4().hex[:8]\n",
    "    os.makedirs(os.path.join(SOURCE, video_name), exist_ok=True)\n",
    "    os.rename(label_path, os.path.join(SOURCE, video_name, f\"{video_name}_{id}.txt\"))\n",
    "    os.rename(video_path, os.path.join(SOURCE, video_name, f\"{video_name}_{id}.mp4\"))"
   ]
  },
  {
   "cell_type": "code",
   "execution_count": null,
   "metadata": {},
   "outputs": [],
   "source": [
    "short_uid = uuid.uuid4().hex[:8]\n",
    "print(short_uid)"
   ]
  },
  {
   "cell_type": "code",
   "execution_count": null,
   "metadata": {},
   "outputs": [],
   "source": [
    "def get_track_id(line):\n",
    "    '''\n",
    "    line is of format track_<id>\n",
    "    '''\n",
    "    match = re.match(r'track_(\\d+)', line)\n",
    "    if match:\n",
    "        return match.group(1)\n",
    "    else:\n",
    "        raise ValueError(f\"Invalid line format: {line}\")"
   ]
  },
  {
   "cell_type": "code",
   "execution_count": null,
   "metadata": {},
   "outputs": [],
   "source": [
    "import os\n",
    "PATH = \"/share/j_sun/jth264/abby/train\"\n",
    "ID = \"GX017102\"\n",
    "VIDEO = f\"{ID}_annotations\"\n",
    "for track_dir in os.listdir(os.path.join(PATH, VIDEO)):\n",
    "    track_dir_path = os.path.join(PATH, VIDEO, track_dir)\n",
    "    if os.path.isdir(track_dir_path):\n",
    "        #print(os.path.join(PATH, f\"{ID}_{get_track_id(track_dir)}\"))\n",
    "        os.rename(track_dir_path, os.path.join(PATH, f\"{ID}_{get_track_id(track_dir)}\"))"
   ]
  },
  {
   "cell_type": "code",
   "execution_count": null,
   "metadata": {},
   "outputs": [],
   "source": [
    "PATH = \"/share/j_sun/jth264/abby/test\"\n",
    "ID = \"GX017042\"\n",
    "VIDEO = f\"{ID}_clips_and_labels\"\n",
    "videos = get_files_of_type(os.path.join(PATH, VIDEO), '.mp4')\n",
    "labels = get_files_of_type(os.path.join(PATH, VIDEO), '.txt')\n",
    "label_dict = {\n",
    "                os.path.splitext(os.path.basename(p))[0]: p\n",
    "                for p in labels\n",
    "}\n",
    "for video_path in videos:\n",
    "    video_name = os.path.splitext(os.path.basename(video_path))[0]\n",
    "    track_id = get_track_id(video_name)\n",
    "    if video_name not in label_dict:\n",
    "        print(f\"Missing annotation for {video_name}\")\n",
    "        continue\n",
    "    label_path = label_dict[video_name]\n",
    "    NEW_DIR = os.path.join(PATH, f\"{ID}_{track_id}\")\n",
    "    print(NEW_DIR)\n",
    "    os.makedirs(NEW_DIR, exist_ok=True)\n",
    "    os.rename(video_path, os.path.join(NEW_DIR, f\"{video_name}.mp4\"))\n",
    "    os.rename(label_path, os.path.join(NEW_DIR, f\"{video_name}.txt\"))"
   ]
  },
  {
   "cell_type": "code",
   "execution_count": 8,
   "metadata": {},
   "outputs": [],
   "source": [
    "PATH = \"/share/j_sun/jth264/abby/train\"\n",
    "for track_dir in os.listdir(PATH):\n",
    "    track_dir_path = os.path.join(PATH, track_dir)\n",
    "    video = get_files_of_type(track_dir_path, '.mp4')[0]\n",
    "    label = get_files_of_type(track_dir_path, '.txt')[0]\n",
    "    os.rename(video, os.path.join(track_dir_path, f\"{track_dir}.mp4\"))\n",
    "    os.rename(label, os.path.join(track_dir_path, f\"{track_dir}.txt\"))"
   ]
  }
 ],
 "metadata": {
  "kernelspec": {
   "display_name": "Python 3",
   "language": "python",
   "name": "python3"
  },
  "language_info": {
   "codemirror_mode": {
    "name": "ipython",
    "version": 3
   },
   "file_extension": ".py",
   "mimetype": "text/x-python",
   "name": "python",
   "nbconvert_exporter": "python",
   "pygments_lexer": "ipython3",
   "version": "3.12.9"
  }
 },
 "nbformat": 4,
 "nbformat_minor": 2
}
