{
 "cells": [
  {
   "cell_type": "code",
   "execution_count": 5,
   "metadata": {},
   "outputs": [
    {
     "name": "stdout",
     "output_type": "stream",
     "text": [
      "['/share/j_sun/jth264/abby/train/GX017102_annotations/track_53/track_53.mp4', '/share/j_sun/jth264/abby/train/GX017102_annotations/track_942/track_942.mp4', '/share/j_sun/jth264/abby/train/GX017102_annotations/track_93/track_93.mp4', '/share/j_sun/jth264/abby/train/GX017102_annotations/track_2/track_2.mp4', '/share/j_sun/jth264/abby/train/GX017102_annotations/track_978/track_978.mp4', '/share/j_sun/jth264/abby/train/GX017102_annotations/track_5/track_5.mp4', '/share/j_sun/jth264/abby/train/GX017102_annotations/track_80/track_80.mp4', '/share/j_sun/jth264/abby/train/GX017102_annotations/track_364/track_364.mp4', '/share/j_sun/jth264/abby/train/GX017102_annotations/track_953/track_953.mp4', '/share/j_sun/jth264/abby/train/GX017102_annotations/track_24/track_24.mp4', '/share/j_sun/jth264/abby/train/GX017102_annotations/track_1462/track_1462.mp4', '/share/j_sun/jth264/abby/train/GX017102_annotations/track_507/track_507.mp4', '/share/j_sun/jth264/abby/train/GX017102_annotations/track_22/track_22.mp4', '/share/j_sun/jth264/abby/train/GX017102_annotations/track_661/track_661.mp4', '/share/j_sun/jth264/abby/train/GX017102_annotations/track_37/track_37.mp4', '/share/j_sun/jth264/abby/train/GX017102_annotations/track_700/track_700.mp4', '/share/j_sun/jth264/abby/train/GX017102_annotations/track_1472/track_1472.mp4', '/share/j_sun/jth264/abby/train/GX017102_annotations/track_851/track_851.mp4', '/share/j_sun/jth264/abby/train/GX017102_annotations/track_717/track_717.mp4', '/share/j_sun/jth264/abby/train/GX017102_annotations/track_336/track_336.mp4', '/share/j_sun/jth264/abby/train/GX017102_annotations/track_1053/track_1053.mp4', '/share/j_sun/jth264/abby/train/GX017102_annotations/track_692/track_692.mp4', '/share/j_sun/jth264/abby/train/GX017102_annotations/track_13/track_13.mp4', '/share/j_sun/jth264/abby/train/GX017102_annotations/track_1444/track_1444.mp4', '/share/j_sun/jth264/abby/train/GX017102_annotations/track_1256/track_1256.mp4', '/share/j_sun/jth264/abby/train/GX017102_annotations/track_17/track_17.mp4', '/share/j_sun/jth264/abby/train/GX017102_annotations/track_910/track_910.mp4', '/share/j_sun/jth264/abby/train/GX017102_annotations/track_657/track_657.mp4', '/share/j_sun/jth264/abby/train/GX017102_annotations/track_1178/track_1178.mp4', '/share/j_sun/jth264/abby/train/GX017102_annotations/track_431/track_431.mp4', '/share/j_sun/jth264/abby/train/GX017102_annotations/track_970/track_970.mp4', '/share/j_sun/jth264/abby/train/GX017102_annotations/track_541/track_541.mp4', '/share/j_sun/jth264/abby/train/GX017102_annotations/track_353/track_353.mp4', '/share/j_sun/jth264/abby/train/GX017102_annotations/track_48/track_48.mp4', '/share/j_sun/jth264/abby/train/GX017102_annotations/track_839/track_839.mp4', '/share/j_sun/jth264/abby/train/GX017102_annotations/track_781/track_781.mp4', '/share/j_sun/jth264/abby/train/GX017102_annotations/track_998/track_998.mp4', '/share/j_sun/jth264/abby/train/GX017102_annotations/track_184/track_184.mp4']\n"
     ]
    }
   ],
   "source": [
    "import os \n",
    "import re\n",
    "import uuid\n",
    "\n",
    "from fish_benchmark.utils import get_files_of_type\n",
    "SOURCE = \"/share/j_sun/jth264/abby/train/GX017102_annotations\"\n",
    "annotations = get_files_of_type(SOURCE, '.txt')\n",
    "videos = get_files_of_type(SOURCE, '.mp4')\n",
    "print(videos)"
   ]
  },
  {
   "cell_type": "code",
   "execution_count": 6,
   "metadata": {},
   "outputs": [],
   "source": [
    "# <video_id>.txt\n",
    "label_dict = {\n",
    "                os.path.splitext(os.path.basename(p))[0]: p\n",
    "                for p in annotations\n",
    "}\n",
    "for video_path in videos: \n",
    "    video_name = os.path.splitext(os.path.basename(video_path))[0]\n",
    "    if video_name not in label_dict:\n",
    "        print(f\"Missing annotation for {video_name}\")\n",
    "        continue\n",
    "    label_path = label_dict[video_name]\n",
    "    id = uuid.uuid4().hex[:8]\n",
    "    os.makedirs(os.path.join(SOURCE, video_name), exist_ok=True)\n",
    "    os.rename(label_path, os.path.join(SOURCE, video_name, f\"{video_name}_{id}.txt\"))\n",
    "    os.rename(video_path, os.path.join(SOURCE, video_name, f\"{video_name}_{id}.mp4\"))"
   ]
  },
  {
   "cell_type": "code",
   "execution_count": null,
   "metadata": {},
   "outputs": [
    {
     "name": "stdout",
     "output_type": "stream",
     "text": [
      "8e759f86\n"
     ]
    }
   ],
   "source": [
    "short_uid = uuid.uuid4().hex[:8]\n",
    "print(short_uid)"
   ]
  },
  {
   "cell_type": "code",
   "execution_count": null,
   "metadata": {},
   "outputs": [],
   "source": []
  }
 ],
 "metadata": {
  "kernelspec": {
   "display_name": "benchmark",
   "language": "python",
   "name": "python3"
  },
  "language_info": {
   "codemirror_mode": {
    "name": "ipython",
    "version": 3
   },
   "file_extension": ".py",
   "mimetype": "text/x-python",
   "name": "python",
   "nbconvert_exporter": "python",
   "pygments_lexer": "ipython3",
   "version": "3.12.9"
  }
 },
 "nbformat": 4,
 "nbformat_minor": 2
}
