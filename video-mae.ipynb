{
 "cells": [
  {
   "cell_type": "code",
   "execution_count": 29,
   "metadata": {},
   "outputs": [],
   "source": [
    "from transformers import VideoMAEForVideoClassification\n",
    "from transformers import AutoImageProcessor, VideoMAEForPreTraining, VideoMAEConfig\n",
    "import torch.nn as nn\n",
    "import torch\n",
    "import numpy as np\n"
   ]
  },
  {
   "cell_type": "code",
   "execution_count": 36,
   "metadata": {},
   "outputs": [
    {
     "name": "stderr",
     "output_type": "stream",
     "text": [
      "Some weights of VideoMAEForVideoClassification were not initialized from the model checkpoint at MCG-NJU/videomae-base and are newly initialized: ['classifier.bias', 'classifier.weight']\n",
      "You should probably TRAIN this model on a down-stream task to be able to use it for predictions and inference.\n"
     ]
    }
   ],
   "source": [
    "model_ckpt = \"MCG-NJU/videomae-base\" # pre-trained model from which to fine-tune\n",
    "model = VideoMAEForVideoClassification.from_pretrained(model_ckpt, attn_implementation=\"sdpa\", torch_dtype=torch.float16)"
   ]
  },
  {
   "cell_type": "code",
   "execution_count": 38,
   "metadata": {},
   "outputs": [
    {
     "name": "stdout",
     "output_type": "stream",
     "text": [
      "768\n",
      "2\n"
     ]
    }
   ],
   "source": [
    "print(model.classifier.in_features)\n",
    "print(model.classifier.out_features)"
   ]
  },
  {
   "cell_type": "code",
   "execution_count": 16,
   "metadata": {},
   "outputs": [
    {
     "data": {
      "text/plain": [
       "VideoMAEConfig {\n",
       "  \"_attn_implementation_autoset\": true,\n",
       "  \"attention_probs_dropout_prob\": 0.0,\n",
       "  \"decoder_hidden_size\": 384,\n",
       "  \"decoder_intermediate_size\": 1536,\n",
       "  \"decoder_num_attention_heads\": 6,\n",
       "  \"decoder_num_hidden_layers\": 4,\n",
       "  \"hidden_act\": \"gelu\",\n",
       "  \"hidden_dropout_prob\": 0.0,\n",
       "  \"hidden_size\": 768,\n",
       "  \"image_size\": 224,\n",
       "  \"initializer_range\": 0.02,\n",
       "  \"intermediate_size\": 3072,\n",
       "  \"layer_norm_eps\": 1e-12,\n",
       "  \"model_type\": \"videomae\",\n",
       "  \"norm_pix_loss\": true,\n",
       "  \"num_attention_heads\": 12,\n",
       "  \"num_channels\": 3,\n",
       "  \"num_frames\": 16,\n",
       "  \"num_hidden_layers\": 12,\n",
       "  \"patch_size\": 16,\n",
       "  \"qkv_bias\": true,\n",
       "  \"transformers_version\": \"4.50.0\",\n",
       "  \"tubelet_size\": 2,\n",
       "  \"use_mean_pooling\": true\n",
       "}"
      ]
     },
     "execution_count": 16,
     "metadata": {},
     "output_type": "execute_result"
    }
   ],
   "source": [
    "config = VideoMAEConfig()\n",
    "custom_classes_classifier = VideoMAEForVideoClassification(config)\n",
    "custom_classes_classifier.config"
   ]
  },
  {
   "cell_type": "code",
   "execution_count": null,
   "metadata": {},
   "outputs": [],
   "source": [
    "num_frames = 300\n",
    "video = list(np.random.randint(0, 256, (num_frames, 3, 224, 224)))"
   ]
  },
  {
   "cell_type": "code",
   "execution_count": 31,
   "metadata": {},
   "outputs": [
    {
     "name": "stdout",
     "output_type": "stream",
     "text": [
      "videomae.embeddings.patch_embeddings.projection.weight torch.Size([768, 3, 2, 16, 16])\n",
      "videomae.embeddings.patch_embeddings.projection.bias torch.Size([768])\n",
      "videomae.encoder.layer.0.attention.attention.q_bias torch.Size([768])\n",
      "videomae.encoder.layer.0.attention.attention.v_bias torch.Size([768])\n",
      "videomae.encoder.layer.0.attention.attention.query.weight torch.Size([768, 768])\n",
      "videomae.encoder.layer.0.attention.attention.key.weight torch.Size([768, 768])\n",
      "videomae.encoder.layer.0.attention.attention.value.weight torch.Size([768, 768])\n",
      "videomae.encoder.layer.0.attention.output.dense.weight torch.Size([768, 768])\n",
      "videomae.encoder.layer.0.attention.output.dense.bias torch.Size([768])\n",
      "videomae.encoder.layer.0.intermediate.dense.weight torch.Size([3072, 768])\n",
      "videomae.encoder.layer.0.intermediate.dense.bias torch.Size([3072])\n",
      "videomae.encoder.layer.0.output.dense.weight torch.Size([768, 3072])\n",
      "videomae.encoder.layer.0.output.dense.bias torch.Size([768])\n",
      "videomae.encoder.layer.0.layernorm_before.weight torch.Size([768])\n",
      "videomae.encoder.layer.0.layernorm_before.bias torch.Size([768])\n",
      "videomae.encoder.layer.0.layernorm_after.weight torch.Size([768])\n",
      "videomae.encoder.layer.0.layernorm_after.bias torch.Size([768])\n",
      "videomae.encoder.layer.1.attention.attention.q_bias torch.Size([768])\n",
      "videomae.encoder.layer.1.attention.attention.v_bias torch.Size([768])\n",
      "videomae.encoder.layer.1.attention.attention.query.weight torch.Size([768, 768])\n",
      "videomae.encoder.layer.1.attention.attention.key.weight torch.Size([768, 768])\n",
      "videomae.encoder.layer.1.attention.attention.value.weight torch.Size([768, 768])\n",
      "videomae.encoder.layer.1.attention.output.dense.weight torch.Size([768, 768])\n",
      "videomae.encoder.layer.1.attention.output.dense.bias torch.Size([768])\n",
      "videomae.encoder.layer.1.intermediate.dense.weight torch.Size([3072, 768])\n",
      "videomae.encoder.layer.1.intermediate.dense.bias torch.Size([3072])\n",
      "videomae.encoder.layer.1.output.dense.weight torch.Size([768, 3072])\n",
      "videomae.encoder.layer.1.output.dense.bias torch.Size([768])\n",
      "videomae.encoder.layer.1.layernorm_before.weight torch.Size([768])\n",
      "videomae.encoder.layer.1.layernorm_before.bias torch.Size([768])\n",
      "videomae.encoder.layer.1.layernorm_after.weight torch.Size([768])\n",
      "videomae.encoder.layer.1.layernorm_after.bias torch.Size([768])\n",
      "videomae.encoder.layer.2.attention.attention.q_bias torch.Size([768])\n",
      "videomae.encoder.layer.2.attention.attention.v_bias torch.Size([768])\n",
      "videomae.encoder.layer.2.attention.attention.query.weight torch.Size([768, 768])\n",
      "videomae.encoder.layer.2.attention.attention.key.weight torch.Size([768, 768])\n",
      "videomae.encoder.layer.2.attention.attention.value.weight torch.Size([768, 768])\n",
      "videomae.encoder.layer.2.attention.output.dense.weight torch.Size([768, 768])\n",
      "videomae.encoder.layer.2.attention.output.dense.bias torch.Size([768])\n",
      "videomae.encoder.layer.2.intermediate.dense.weight torch.Size([3072, 768])\n",
      "videomae.encoder.layer.2.intermediate.dense.bias torch.Size([3072])\n",
      "videomae.encoder.layer.2.output.dense.weight torch.Size([768, 3072])\n",
      "videomae.encoder.layer.2.output.dense.bias torch.Size([768])\n",
      "videomae.encoder.layer.2.layernorm_before.weight torch.Size([768])\n",
      "videomae.encoder.layer.2.layernorm_before.bias torch.Size([768])\n",
      "videomae.encoder.layer.2.layernorm_after.weight torch.Size([768])\n",
      "videomae.encoder.layer.2.layernorm_after.bias torch.Size([768])\n",
      "videomae.encoder.layer.3.attention.attention.q_bias torch.Size([768])\n",
      "videomae.encoder.layer.3.attention.attention.v_bias torch.Size([768])\n",
      "videomae.encoder.layer.3.attention.attention.query.weight torch.Size([768, 768])\n",
      "videomae.encoder.layer.3.attention.attention.key.weight torch.Size([768, 768])\n",
      "videomae.encoder.layer.3.attention.attention.value.weight torch.Size([768, 768])\n",
      "videomae.encoder.layer.3.attention.output.dense.weight torch.Size([768, 768])\n",
      "videomae.encoder.layer.3.attention.output.dense.bias torch.Size([768])\n",
      "videomae.encoder.layer.3.intermediate.dense.weight torch.Size([3072, 768])\n",
      "videomae.encoder.layer.3.intermediate.dense.bias torch.Size([3072])\n",
      "videomae.encoder.layer.3.output.dense.weight torch.Size([768, 3072])\n",
      "videomae.encoder.layer.3.output.dense.bias torch.Size([768])\n",
      "videomae.encoder.layer.3.layernorm_before.weight torch.Size([768])\n",
      "videomae.encoder.layer.3.layernorm_before.bias torch.Size([768])\n",
      "videomae.encoder.layer.3.layernorm_after.weight torch.Size([768])\n",
      "videomae.encoder.layer.3.layernorm_after.bias torch.Size([768])\n",
      "videomae.encoder.layer.4.attention.attention.q_bias torch.Size([768])\n",
      "videomae.encoder.layer.4.attention.attention.v_bias torch.Size([768])\n",
      "videomae.encoder.layer.4.attention.attention.query.weight torch.Size([768, 768])\n",
      "videomae.encoder.layer.4.attention.attention.key.weight torch.Size([768, 768])\n",
      "videomae.encoder.layer.4.attention.attention.value.weight torch.Size([768, 768])\n",
      "videomae.encoder.layer.4.attention.output.dense.weight torch.Size([768, 768])\n",
      "videomae.encoder.layer.4.attention.output.dense.bias torch.Size([768])\n",
      "videomae.encoder.layer.4.intermediate.dense.weight torch.Size([3072, 768])\n",
      "videomae.encoder.layer.4.intermediate.dense.bias torch.Size([3072])\n",
      "videomae.encoder.layer.4.output.dense.weight torch.Size([768, 3072])\n",
      "videomae.encoder.layer.4.output.dense.bias torch.Size([768])\n",
      "videomae.encoder.layer.4.layernorm_before.weight torch.Size([768])\n",
      "videomae.encoder.layer.4.layernorm_before.bias torch.Size([768])\n",
      "videomae.encoder.layer.4.layernorm_after.weight torch.Size([768])\n",
      "videomae.encoder.layer.4.layernorm_after.bias torch.Size([768])\n",
      "videomae.encoder.layer.5.attention.attention.q_bias torch.Size([768])\n",
      "videomae.encoder.layer.5.attention.attention.v_bias torch.Size([768])\n",
      "videomae.encoder.layer.5.attention.attention.query.weight torch.Size([768, 768])\n",
      "videomae.encoder.layer.5.attention.attention.key.weight torch.Size([768, 768])\n",
      "videomae.encoder.layer.5.attention.attention.value.weight torch.Size([768, 768])\n",
      "videomae.encoder.layer.5.attention.output.dense.weight torch.Size([768, 768])\n",
      "videomae.encoder.layer.5.attention.output.dense.bias torch.Size([768])\n",
      "videomae.encoder.layer.5.intermediate.dense.weight torch.Size([3072, 768])\n",
      "videomae.encoder.layer.5.intermediate.dense.bias torch.Size([3072])\n",
      "videomae.encoder.layer.5.output.dense.weight torch.Size([768, 3072])\n",
      "videomae.encoder.layer.5.output.dense.bias torch.Size([768])\n",
      "videomae.encoder.layer.5.layernorm_before.weight torch.Size([768])\n",
      "videomae.encoder.layer.5.layernorm_before.bias torch.Size([768])\n",
      "videomae.encoder.layer.5.layernorm_after.weight torch.Size([768])\n",
      "videomae.encoder.layer.5.layernorm_after.bias torch.Size([768])\n",
      "videomae.encoder.layer.6.attention.attention.q_bias torch.Size([768])\n",
      "videomae.encoder.layer.6.attention.attention.v_bias torch.Size([768])\n",
      "videomae.encoder.layer.6.attention.attention.query.weight torch.Size([768, 768])\n",
      "videomae.encoder.layer.6.attention.attention.key.weight torch.Size([768, 768])\n",
      "videomae.encoder.layer.6.attention.attention.value.weight torch.Size([768, 768])\n",
      "videomae.encoder.layer.6.attention.output.dense.weight torch.Size([768, 768])\n",
      "videomae.encoder.layer.6.attention.output.dense.bias torch.Size([768])\n",
      "videomae.encoder.layer.6.intermediate.dense.weight torch.Size([3072, 768])\n",
      "videomae.encoder.layer.6.intermediate.dense.bias torch.Size([3072])\n",
      "videomae.encoder.layer.6.output.dense.weight torch.Size([768, 3072])\n",
      "videomae.encoder.layer.6.output.dense.bias torch.Size([768])\n",
      "videomae.encoder.layer.6.layernorm_before.weight torch.Size([768])\n",
      "videomae.encoder.layer.6.layernorm_before.bias torch.Size([768])\n",
      "videomae.encoder.layer.6.layernorm_after.weight torch.Size([768])\n",
      "videomae.encoder.layer.6.layernorm_after.bias torch.Size([768])\n",
      "videomae.encoder.layer.7.attention.attention.q_bias torch.Size([768])\n",
      "videomae.encoder.layer.7.attention.attention.v_bias torch.Size([768])\n",
      "videomae.encoder.layer.7.attention.attention.query.weight torch.Size([768, 768])\n",
      "videomae.encoder.layer.7.attention.attention.key.weight torch.Size([768, 768])\n",
      "videomae.encoder.layer.7.attention.attention.value.weight torch.Size([768, 768])\n",
      "videomae.encoder.layer.7.attention.output.dense.weight torch.Size([768, 768])\n",
      "videomae.encoder.layer.7.attention.output.dense.bias torch.Size([768])\n",
      "videomae.encoder.layer.7.intermediate.dense.weight torch.Size([3072, 768])\n",
      "videomae.encoder.layer.7.intermediate.dense.bias torch.Size([3072])\n",
      "videomae.encoder.layer.7.output.dense.weight torch.Size([768, 3072])\n",
      "videomae.encoder.layer.7.output.dense.bias torch.Size([768])\n",
      "videomae.encoder.layer.7.layernorm_before.weight torch.Size([768])\n",
      "videomae.encoder.layer.7.layernorm_before.bias torch.Size([768])\n",
      "videomae.encoder.layer.7.layernorm_after.weight torch.Size([768])\n",
      "videomae.encoder.layer.7.layernorm_after.bias torch.Size([768])\n",
      "videomae.encoder.layer.8.attention.attention.q_bias torch.Size([768])\n",
      "videomae.encoder.layer.8.attention.attention.v_bias torch.Size([768])\n",
      "videomae.encoder.layer.8.attention.attention.query.weight torch.Size([768, 768])\n",
      "videomae.encoder.layer.8.attention.attention.key.weight torch.Size([768, 768])\n",
      "videomae.encoder.layer.8.attention.attention.value.weight torch.Size([768, 768])\n",
      "videomae.encoder.layer.8.attention.output.dense.weight torch.Size([768, 768])\n",
      "videomae.encoder.layer.8.attention.output.dense.bias torch.Size([768])\n",
      "videomae.encoder.layer.8.intermediate.dense.weight torch.Size([3072, 768])\n",
      "videomae.encoder.layer.8.intermediate.dense.bias torch.Size([3072])\n",
      "videomae.encoder.layer.8.output.dense.weight torch.Size([768, 3072])\n",
      "videomae.encoder.layer.8.output.dense.bias torch.Size([768])\n",
      "videomae.encoder.layer.8.layernorm_before.weight torch.Size([768])\n",
      "videomae.encoder.layer.8.layernorm_before.bias torch.Size([768])\n",
      "videomae.encoder.layer.8.layernorm_after.weight torch.Size([768])\n",
      "videomae.encoder.layer.8.layernorm_after.bias torch.Size([768])\n",
      "videomae.encoder.layer.9.attention.attention.q_bias torch.Size([768])\n",
      "videomae.encoder.layer.9.attention.attention.v_bias torch.Size([768])\n",
      "videomae.encoder.layer.9.attention.attention.query.weight torch.Size([768, 768])\n",
      "videomae.encoder.layer.9.attention.attention.key.weight torch.Size([768, 768])\n",
      "videomae.encoder.layer.9.attention.attention.value.weight torch.Size([768, 768])\n",
      "videomae.encoder.layer.9.attention.output.dense.weight torch.Size([768, 768])\n",
      "videomae.encoder.layer.9.attention.output.dense.bias torch.Size([768])\n",
      "videomae.encoder.layer.9.intermediate.dense.weight torch.Size([3072, 768])\n",
      "videomae.encoder.layer.9.intermediate.dense.bias torch.Size([3072])\n",
      "videomae.encoder.layer.9.output.dense.weight torch.Size([768, 3072])\n",
      "videomae.encoder.layer.9.output.dense.bias torch.Size([768])\n",
      "videomae.encoder.layer.9.layernorm_before.weight torch.Size([768])\n",
      "videomae.encoder.layer.9.layernorm_before.bias torch.Size([768])\n",
      "videomae.encoder.layer.9.layernorm_after.weight torch.Size([768])\n",
      "videomae.encoder.layer.9.layernorm_after.bias torch.Size([768])\n",
      "videomae.encoder.layer.10.attention.attention.q_bias torch.Size([768])\n",
      "videomae.encoder.layer.10.attention.attention.v_bias torch.Size([768])\n",
      "videomae.encoder.layer.10.attention.attention.query.weight torch.Size([768, 768])\n",
      "videomae.encoder.layer.10.attention.attention.key.weight torch.Size([768, 768])\n",
      "videomae.encoder.layer.10.attention.attention.value.weight torch.Size([768, 768])\n",
      "videomae.encoder.layer.10.attention.output.dense.weight torch.Size([768, 768])\n",
      "videomae.encoder.layer.10.attention.output.dense.bias torch.Size([768])\n",
      "videomae.encoder.layer.10.intermediate.dense.weight torch.Size([3072, 768])\n",
      "videomae.encoder.layer.10.intermediate.dense.bias torch.Size([3072])\n",
      "videomae.encoder.layer.10.output.dense.weight torch.Size([768, 3072])\n",
      "videomae.encoder.layer.10.output.dense.bias torch.Size([768])\n",
      "videomae.encoder.layer.10.layernorm_before.weight torch.Size([768])\n",
      "videomae.encoder.layer.10.layernorm_before.bias torch.Size([768])\n",
      "videomae.encoder.layer.10.layernorm_after.weight torch.Size([768])\n",
      "videomae.encoder.layer.10.layernorm_after.bias torch.Size([768])\n",
      "videomae.encoder.layer.11.attention.attention.q_bias torch.Size([768])\n",
      "videomae.encoder.layer.11.attention.attention.v_bias torch.Size([768])\n",
      "videomae.encoder.layer.11.attention.attention.query.weight torch.Size([768, 768])\n",
      "videomae.encoder.layer.11.attention.attention.key.weight torch.Size([768, 768])\n",
      "videomae.encoder.layer.11.attention.attention.value.weight torch.Size([768, 768])\n",
      "videomae.encoder.layer.11.attention.output.dense.weight torch.Size([768, 768])\n",
      "videomae.encoder.layer.11.attention.output.dense.bias torch.Size([768])\n",
      "videomae.encoder.layer.11.intermediate.dense.weight torch.Size([3072, 768])\n",
      "videomae.encoder.layer.11.intermediate.dense.bias torch.Size([3072])\n",
      "videomae.encoder.layer.11.output.dense.weight torch.Size([768, 3072])\n",
      "videomae.encoder.layer.11.output.dense.bias torch.Size([768])\n",
      "videomae.encoder.layer.11.layernorm_before.weight torch.Size([768])\n",
      "videomae.encoder.layer.11.layernorm_before.bias torch.Size([768])\n",
      "videomae.encoder.layer.11.layernorm_after.weight torch.Size([768])\n",
      "videomae.encoder.layer.11.layernorm_after.bias torch.Size([768])\n",
      "fc_norm.weight torch.Size([768])\n",
      "fc_norm.bias torch.Size([768])\n",
      "classifier.weight torch.Size([10, 768])\n",
      "classifier.bias torch.Size([10])\n"
     ]
    }
   ],
   "source": [
    "for name, param in model.named_parameters():\n",
    "    print(name, param.shape)"
   ]
  },
  {
   "cell_type": "code",
   "execution_count": 30,
   "metadata": {},
   "outputs": [
    {
     "data": {
      "text/plain": [
       "Parameter containing:\n",
       "tensor([[ 2.9160e-02, -5.9799e-02, -6.5543e-02,  ..., -5.2898e-02,\n",
       "         -5.6438e-02,  2.7119e-02],\n",
       "        [ 7.8855e-02,  4.2638e-02, -7.4459e-02,  ..., -1.0165e-02,\n",
       "         -7.1323e-02,  2.3759e-02],\n",
       "        [-3.7065e-02,  6.4580e-02,  4.2882e-03,  ...,  3.5372e-02,\n",
       "         -7.2661e-02,  2.8763e-03],\n",
       "        ...,\n",
       "        [ 2.2121e-05, -3.2489e-02,  4.4185e-02,  ...,  6.5742e-02,\n",
       "         -3.4614e-02,  6.6461e-02],\n",
       "        [-7.5132e-02, -1.3558e-02,  4.2514e-02,  ...,  4.4074e-02,\n",
       "         -2.4874e-02, -7.3005e-04],\n",
       "        [ 3.8914e-02, -2.1927e-02, -7.5983e-02,  ..., -3.0596e-02,\n",
       "          8.1747e-02, -4.6111e-02]], requires_grad=True)"
      ]
     },
     "execution_count": 30,
     "metadata": {},
     "output_type": "execute_result"
    }
   ],
   "source": [
    "model.classifier = nn.Linear(model.classifier.in_features, 10)\n",
    "#random initialize weights\n",
    "nn.init.xavier_uniform_(model.classifier.weight)"
   ]
  },
  {
   "cell_type": "code",
   "execution_count": 20,
   "metadata": {},
   "outputs": [
    {
     "name": "stderr",
     "output_type": "stream",
     "text": [
      "/home/jth264/.conda/envs/benchmark/lib/python3.12/site-packages/transformers/image_processing_utils.py:42: UserWarning: The following named arguments are not valid for `VideoMAEImageProcessor.preprocess` and were ignored: 'use_fast'\n",
      "  return self.preprocess(images, **kwargs)\n"
     ]
    }
   ],
   "source": [
    "image_processor = AutoImageProcessor.from_pretrained(\"MCG-NJU/videomae-base\")\n",
    "pixel_values = image_processor(video, return_tensors=\"pt\", use_fast = True).pixel_values\n"
   ]
  },
  {
   "cell_type": "code",
   "execution_count": 21,
   "metadata": {},
   "outputs": [
    {
     "data": {
      "text/plain": [
       "torch.Tensor"
      ]
     },
     "execution_count": 21,
     "metadata": {},
     "output_type": "execute_result"
    }
   ],
   "source": [
    "type(pixel_values)"
   ]
  },
  {
   "cell_type": "code",
   "execution_count": 22,
   "metadata": {},
   "outputs": [
    {
     "data": {
      "text/plain": [
       "torch.Size([1, 16, 3, 224, 224])"
      ]
     },
     "execution_count": 22,
     "metadata": {},
     "output_type": "execute_result"
    }
   ],
   "source": [
    "pixel_values.shape"
   ]
  },
  {
   "cell_type": "code",
   "execution_count": 23,
   "metadata": {},
   "outputs": [],
   "source": [
    "outputs = custom_classes_classifier(pixel_values)"
   ]
  },
  {
   "cell_type": "code",
   "execution_count": 25,
   "metadata": {},
   "outputs": [
    {
     "data": {
      "text/plain": [
       "transformers.modeling_outputs.ImageClassifierOutput"
      ]
     },
     "execution_count": 25,
     "metadata": {},
     "output_type": "execute_result"
    }
   ],
   "source": [
    "type(outputs)"
   ]
  },
  {
   "cell_type": "code",
   "execution_count": 26,
   "metadata": {},
   "outputs": [
    {
     "data": {
      "text/plain": [
       "ImageClassifierOutput(loss=None, logits=tensor([[-0.1453,  0.1725]], grad_fn=<AddmmBackward0>), hidden_states=None, attentions=None)"
      ]
     },
     "execution_count": 26,
     "metadata": {},
     "output_type": "execute_result"
    }
   ],
   "source": [
    "outputs"
   ]
  },
  {
   "cell_type": "code",
   "execution_count": null,
   "metadata": {},
   "outputs": [],
   "source": [
    "import av\n",
    "import torch\n",
    "import numpy as np\n",
    "\n",
    "from transformers import AutoImageProcessor, VideoMAEForVideoClassification\n",
    "from huggingface_hub import hf_hub_download\n",
    "\n",
    "np.random.seed(0)\n",
    "\n",
    "\n",
    "def read_video_pyav(container, indices):\n",
    "    '''\n",
    "    Decode the video with PyAV decoder.\n",
    "    Args:\n",
    "        container (`av.container.input.InputContainer`): PyAV container.\n",
    "        indices (`List[int]`): List of frame indices to decode.\n",
    "    Returns:\n",
    "        result (np.ndarray): np array of decoded frames of shape (num_frames, height, width, 3).\n",
    "    '''\n",
    "    frames = []\n",
    "    container.seek(0)\n",
    "    start_index = indices[0]\n",
    "    end_index = indices[-1]\n",
    "    for i, frame in enumerate(container.decode(video=0)):\n",
    "        if i > end_index:\n",
    "            break\n",
    "        if i >= start_index and i in indices:\n",
    "            frames.append(frame)\n",
    "    return np.stack([x.to_ndarray(format=\"rgb24\") for x in frames])\n",
    "\n",
    "\n",
    "def sample_frame_indices(clip_len, frame_sample_rate, seg_len):\n",
    "    '''\n",
    "    Sample a given number of frame indices from the video.\n",
    "    Args:\n",
    "        clip_len (`int`): Total number of frames to sample.\n",
    "        frame_sample_rate (`int`): Sample every n-th frame.\n",
    "        seg_len (`int`): Maximum allowed index of sample's last frame.\n",
    "    Returns:\n",
    "        indices (`List[int]`): List of sampled frame indices\n",
    "    '''\n",
    "    converted_len = int(clip_len * frame_sample_rate)\n",
    "    end_idx = np.random.randint(converted_len, seg_len)\n",
    "    start_idx = end_idx - converted_len\n",
    "    indices = np.linspace(start_idx, end_idx, num=clip_len)\n",
    "    indices = np.clip(indices, start_idx, end_idx - 1).astype(np.int64)\n",
    "    return indices\n",
    "\n",
    "\n",
    "# video clip consists of 300 frames (10 seconds at 30 FPS)\n",
    "file_path = hf_hub_download(\n",
    "    repo_id=\"nielsr/video-demo\", filename=\"eating_spaghetti.mp4\", repo_type=\"dataset\"\n",
    ")\n",
    "container = av.open(file_path)\n",
    "\n",
    "# sample 16 frames\n",
    "indices = sample_frame_indices(clip_len=16, frame_sample_rate=1, seg_len=container.streams.video[0].frames)\n",
    "video = read_video_pyav(container, indices)\n",
    "\n",
    "image_processor = AutoImageProcessor.from_pretrained(\"MCG-NJU/videomae-base-finetuned-kinetics\")\n",
    "model = VideoMAEForVideoClassification.from_pretrained(\"MCG-NJU/videomae-base-finetuned-kinetics\")\n",
    "\n",
    "inputs = image_processor(list(video), return_tensors=\"pt\")\n",
    "\n",
    "with torch.no_grad():\n",
    "    outputs = model(**inputs)\n",
    "    logits = outputs.logits\n",
    "\n",
    "# model predicts one of the 400 Kinetics-400 classes\n",
    "predicted_label = logits.argmax(-1).item()\n",
    "print(model.config.id2label[predicted_label])"
   ]
  },
  {
   "cell_type": "code",
   "execution_count": 39,
   "metadata": {},
   "outputs": [],
   "source": [
    "from huggingface_hub import hf_hub_download\n",
    "\n",
    "hf_dataset_identifier = \"sayakpaul/ucf101-subset\"\n",
    "filename = \"UCF101_subset.tar.gz\"\n",
    "destination_path = \"/share/j_sun/jth264\"  # Change this to your desired directory\n",
    "\n",
    "file_path = hf_hub_download(\n",
    "    repo_id=hf_dataset_identifier, \n",
    "    filename=filename, \n",
    "    repo_type=\"dataset\",\n",
    "    local_dir=destination_path  # Specify the download directory\n",
    ")\n"
   ]
  }
 ],
 "metadata": {
  "kernelspec": {
   "display_name": "Python 3",
   "language": "python",
   "name": "python3"
  },
  "language_info": {
   "codemirror_mode": {
    "name": "ipython",
    "version": 3
   },
   "file_extension": ".py",
   "mimetype": "text/x-python",
   "name": "python",
   "nbconvert_exporter": "python",
   "pygments_lexer": "ipython3",
   "version": "3.12.9"
  }
 },
 "nbformat": 4,
 "nbformat_minor": 2
}
