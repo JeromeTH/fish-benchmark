{
 "cells": [
  {
   "cell_type": "code",
   "execution_count": 1,
   "id": "0fc921f0",
   "metadata": {},
   "outputs": [],
   "source": [
    "import pandas as pd"
   ]
  },
  {
   "cell_type": "code",
   "execution_count": 5,
   "id": "bb9bfd0a",
   "metadata": {},
   "outputs": [],
   "source": [
    "DATASET = 'mike'\n",
    "TOL = 0\n",
    "PATH = f'../results/{DATASET}_eval_tol={TOL}_w_subgroup_metrics.csv'\n",
    "df = pd.read_csv(PATH)"
   ]
  },
  {
   "cell_type": "code",
   "execution_count": 6,
   "id": "7f4b250d",
   "metadata": {},
   "outputs": [
    {
     "data": {
      "text/plain": [
       "Index(['model', 'epochs', 'dataset', 'monitor', 'pooling', 'sampler',\n",
       "       'shuffle', 'backbone', 'optimizer', 'aggregator',\n",
       "       ...\n",
       "       'other_precision_macro', 'other_recall_micro', 'other_recall_macro',\n",
       "       'other_mAP', 'other_acc', 'other_f1_per_class', 'other_mAP_per_class',\n",
       "       'other_precision_per_class', 'other_recall_per_class',\n",
       "       'other_positive_per_class'],\n",
       "      dtype='object', length=112)"
      ]
     },
     "execution_count": 6,
     "metadata": {},
     "output_type": "execute_result"
    }
   ],
   "source": [
    "df.columns"
   ]
  },
  {
   "cell_type": "code",
   "execution_count": 7,
   "id": "f50ce01e",
   "metadata": {},
   "outputs": [],
   "source": [
    "# subgroup_mappings = {\n",
    "#     \"abby\": {\n",
    "#         'biting': [0, 1], \n",
    "#         'aggression': [3, 4]\n",
    "#     }, \n",
    "#     \"mike\":{\n",
    "#         'habitat': [16, 17, 19], \n",
    "#         'biting': [1, 2, 6, 9], \n",
    "#         'movement': [3, 4], \n",
    "#         'foraging': [8, 11, 14], \n",
    "#         'interactions': [5, 7, 13], \n",
    "#         'other': [0, 10, 12, 15, 18]\n",
    "#     }\n",
    "# }\n",
    "\n",
    "relevant_columns = {\n",
    "    'abby': [\n",
    "        'backbone', \n",
    "        'sliding_style', \n",
    "        'sampler', \n",
    "        'mAP', \n",
    "        'f1_macro', \n",
    "        'acc', \n",
    "        'biting_f1_macro', \n",
    "        'biting_mAP',\n",
    "        'biting_acc',\n",
    "        'aggressive_f1_macro',\n",
    "        'aggressive_mAP',\n",
    "        'aggressive_acc',\n",
    "    ], \n",
    "    'mike': [\n",
    "        'backbone',\n",
    "        'sliding_style',\n",
    "        'sampler',\n",
    "        'mAP',\n",
    "        'f1_macro',\n",
    "        'acc',\n",
    "        'movement_f1_macro',\n",
    "        'movement_mAP',\n",
    "        'movement_acc',\n",
    "        'biting_f1_macro',\n",
    "        'biting_mAP',\n",
    "        'biting_acc',\n",
    "        'foraging_f1_macro',\n",
    "        'foraging_mAP',\n",
    "        'foraging_acc',\n",
    "        'interactions_f1_macro',\n",
    "        'interactions_mAP',\n",
    "        'interactions_acc',\n",
    "        'habitat_f1_macro',\n",
    "        'habitat_mAP',\n",
    "        'habitat_acc',\n",
    "        'other_f1_macro',\n",
    "        'other_mAP',\n",
    "        'other_acc',\n",
    "    ]\n",
    "}"
   ]
  },
  {
   "cell_type": "code",
   "execution_count": null,
   "id": "340516f9",
   "metadata": {},
   "outputs": [],
   "source": [
    "cleaned_df = df[relevant_columns[DATASET]].copy()"
   ]
  }
 ],
 "metadata": {
  "kernelspec": {
   "display_name": "Python 3",
   "language": "python",
   "name": "python3"
  },
  "language_info": {
   "codemirror_mode": {
    "name": "ipython",
    "version": 3
   },
   "file_extension": ".py",
   "mimetype": "text/x-python",
   "name": "python",
   "nbconvert_exporter": "python",
   "pygments_lexer": "ipython3",
   "version": "3.12.9"
  }
 },
 "nbformat": 4,
 "nbformat_minor": 5
}
