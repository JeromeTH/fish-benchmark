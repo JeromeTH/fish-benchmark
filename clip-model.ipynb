{
 "cells": [
  {
   "cell_type": "code",
   "execution_count": null,
   "metadata": {},
   "outputs": [],
   "source": [
    "#hello"
   ]
  },
  {
   "cell_type": "code",
   "execution_count": 1,
   "metadata": {},
   "outputs": [
    {
     "name": "stderr",
     "output_type": "stream",
     "text": [
      "/home/jth264/.conda/envs/benchmark/lib/python3.12/site-packages/tqdm/auto.py:21: TqdmWarning: IProgress not found. Please update jupyter and ipywidgets. See https://ipywidgets.readthedocs.io/en/stable/user_install.html\n",
      "  from .autonotebook import tqdm as notebook_tqdm\n"
     ]
    }
   ],
   "source": [
    "from transformers import CLIPVisionConfig, CLIPVisionModel, AutoProcessor, CLIPForImageClassification\n",
    "import torch"
   ]
  },
  {
   "cell_type": "code",
   "execution_count": 2,
   "metadata": {},
   "outputs": [
    {
     "name": "stderr",
     "output_type": "stream",
     "text": [
      "Using a slow image processor as `use_fast` is unset and a slow processor was saved with this model. `use_fast=True` will be the default behavior in v4.50, even if the model was saved with a slow processor. This will result in minor differences in outputs. You'll still be able to use a slow processor with `use_fast=False`.\n"
     ]
    },
    {
     "data": {
      "text/plain": [
       "CLIPVisionConfig {\n",
       "  \"_attn_implementation_autoset\": true,\n",
       "  \"attention_dropout\": 0.0,\n",
       "  \"dropout\": 0.0,\n",
       "  \"hidden_act\": \"quick_gelu\",\n",
       "  \"hidden_size\": 768,\n",
       "  \"image_size\": 224,\n",
       "  \"initializer_factor\": 1.0,\n",
       "  \"initializer_range\": 0.02,\n",
       "  \"intermediate_size\": 3072,\n",
       "  \"layer_norm_eps\": 1e-05,\n",
       "  \"model_type\": \"clip_vision_model\",\n",
       "  \"num_attention_heads\": 12,\n",
       "  \"num_channels\": 3,\n",
       "  \"num_hidden_layers\": 12,\n",
       "  \"patch_size\": 32,\n",
       "  \"projection_dim\": 512,\n",
       "  \"torch_dtype\": \"float32\",\n",
       "  \"transformers_version\": \"4.50.0\"\n",
       "}"
      ]
     },
     "execution_count": 2,
     "metadata": {},
     "output_type": "execute_result"
    }
   ],
   "source": [
    "model = CLIPVisionModel.from_pretrained(\"openai/clip-vit-base-patch32\")\n",
    "processor = AutoProcessor.from_pretrained(\"openai/clip-vit-base-patch32\")\n",
    "configuration = CLIPVisionConfig()\n",
    "model.config\n"
   ]
  },
  {
   "cell_type": "code",
   "execution_count": 7,
   "metadata": {},
   "outputs": [
    {
     "name": "stdout",
     "output_type": "stream",
     "text": [
      "vision_model.embeddings.class_embedding torch.Size([768])\n",
      "vision_model.embeddings.patch_embedding.weight torch.Size([768, 3, 32, 32])\n",
      "vision_model.embeddings.position_embedding.weight torch.Size([50, 768])\n",
      "vision_model.pre_layrnorm.weight torch.Size([768])\n",
      "vision_model.pre_layrnorm.bias torch.Size([768])\n",
      "vision_model.encoder.layers.0.self_attn.k_proj.weight torch.Size([768, 768])\n",
      "vision_model.encoder.layers.0.self_attn.k_proj.bias torch.Size([768])\n",
      "vision_model.encoder.layers.0.self_attn.v_proj.weight torch.Size([768, 768])\n",
      "vision_model.encoder.layers.0.self_attn.v_proj.bias torch.Size([768])\n",
      "vision_model.encoder.layers.0.self_attn.q_proj.weight torch.Size([768, 768])\n",
      "vision_model.encoder.layers.0.self_attn.q_proj.bias torch.Size([768])\n",
      "vision_model.encoder.layers.0.self_attn.out_proj.weight torch.Size([768, 768])\n",
      "vision_model.encoder.layers.0.self_attn.out_proj.bias torch.Size([768])\n",
      "vision_model.encoder.layers.0.layer_norm1.weight torch.Size([768])\n",
      "vision_model.encoder.layers.0.layer_norm1.bias torch.Size([768])\n",
      "vision_model.encoder.layers.0.mlp.fc1.weight torch.Size([3072, 768])\n",
      "vision_model.encoder.layers.0.mlp.fc1.bias torch.Size([3072])\n",
      "vision_model.encoder.layers.0.mlp.fc2.weight torch.Size([768, 3072])\n",
      "vision_model.encoder.layers.0.mlp.fc2.bias torch.Size([768])\n",
      "vision_model.encoder.layers.0.layer_norm2.weight torch.Size([768])\n",
      "vision_model.encoder.layers.0.layer_norm2.bias torch.Size([768])\n",
      "vision_model.encoder.layers.1.self_attn.k_proj.weight torch.Size([768, 768])\n",
      "vision_model.encoder.layers.1.self_attn.k_proj.bias torch.Size([768])\n",
      "vision_model.encoder.layers.1.self_attn.v_proj.weight torch.Size([768, 768])\n",
      "vision_model.encoder.layers.1.self_attn.v_proj.bias torch.Size([768])\n",
      "vision_model.encoder.layers.1.self_attn.q_proj.weight torch.Size([768, 768])\n",
      "vision_model.encoder.layers.1.self_attn.q_proj.bias torch.Size([768])\n",
      "vision_model.encoder.layers.1.self_attn.out_proj.weight torch.Size([768, 768])\n",
      "vision_model.encoder.layers.1.self_attn.out_proj.bias torch.Size([768])\n",
      "vision_model.encoder.layers.1.layer_norm1.weight torch.Size([768])\n",
      "vision_model.encoder.layers.1.layer_norm1.bias torch.Size([768])\n",
      "vision_model.encoder.layers.1.mlp.fc1.weight torch.Size([3072, 768])\n",
      "vision_model.encoder.layers.1.mlp.fc1.bias torch.Size([3072])\n",
      "vision_model.encoder.layers.1.mlp.fc2.weight torch.Size([768, 3072])\n",
      "vision_model.encoder.layers.1.mlp.fc2.bias torch.Size([768])\n",
      "vision_model.encoder.layers.1.layer_norm2.weight torch.Size([768])\n",
      "vision_model.encoder.layers.1.layer_norm2.bias torch.Size([768])\n",
      "vision_model.encoder.layers.2.self_attn.k_proj.weight torch.Size([768, 768])\n",
      "vision_model.encoder.layers.2.self_attn.k_proj.bias torch.Size([768])\n",
      "vision_model.encoder.layers.2.self_attn.v_proj.weight torch.Size([768, 768])\n",
      "vision_model.encoder.layers.2.self_attn.v_proj.bias torch.Size([768])\n",
      "vision_model.encoder.layers.2.self_attn.q_proj.weight torch.Size([768, 768])\n",
      "vision_model.encoder.layers.2.self_attn.q_proj.bias torch.Size([768])\n",
      "vision_model.encoder.layers.2.self_attn.out_proj.weight torch.Size([768, 768])\n",
      "vision_model.encoder.layers.2.self_attn.out_proj.bias torch.Size([768])\n",
      "vision_model.encoder.layers.2.layer_norm1.weight torch.Size([768])\n",
      "vision_model.encoder.layers.2.layer_norm1.bias torch.Size([768])\n",
      "vision_model.encoder.layers.2.mlp.fc1.weight torch.Size([3072, 768])\n",
      "vision_model.encoder.layers.2.mlp.fc1.bias torch.Size([3072])\n",
      "vision_model.encoder.layers.2.mlp.fc2.weight torch.Size([768, 3072])\n",
      "vision_model.encoder.layers.2.mlp.fc2.bias torch.Size([768])\n",
      "vision_model.encoder.layers.2.layer_norm2.weight torch.Size([768])\n",
      "vision_model.encoder.layers.2.layer_norm2.bias torch.Size([768])\n",
      "vision_model.encoder.layers.3.self_attn.k_proj.weight torch.Size([768, 768])\n",
      "vision_model.encoder.layers.3.self_attn.k_proj.bias torch.Size([768])\n",
      "vision_model.encoder.layers.3.self_attn.v_proj.weight torch.Size([768, 768])\n",
      "vision_model.encoder.layers.3.self_attn.v_proj.bias torch.Size([768])\n",
      "vision_model.encoder.layers.3.self_attn.q_proj.weight torch.Size([768, 768])\n",
      "vision_model.encoder.layers.3.self_attn.q_proj.bias torch.Size([768])\n",
      "vision_model.encoder.layers.3.self_attn.out_proj.weight torch.Size([768, 768])\n",
      "vision_model.encoder.layers.3.self_attn.out_proj.bias torch.Size([768])\n",
      "vision_model.encoder.layers.3.layer_norm1.weight torch.Size([768])\n",
      "vision_model.encoder.layers.3.layer_norm1.bias torch.Size([768])\n",
      "vision_model.encoder.layers.3.mlp.fc1.weight torch.Size([3072, 768])\n",
      "vision_model.encoder.layers.3.mlp.fc1.bias torch.Size([3072])\n",
      "vision_model.encoder.layers.3.mlp.fc2.weight torch.Size([768, 3072])\n",
      "vision_model.encoder.layers.3.mlp.fc2.bias torch.Size([768])\n",
      "vision_model.encoder.layers.3.layer_norm2.weight torch.Size([768])\n",
      "vision_model.encoder.layers.3.layer_norm2.bias torch.Size([768])\n",
      "vision_model.encoder.layers.4.self_attn.k_proj.weight torch.Size([768, 768])\n",
      "vision_model.encoder.layers.4.self_attn.k_proj.bias torch.Size([768])\n",
      "vision_model.encoder.layers.4.self_attn.v_proj.weight torch.Size([768, 768])\n",
      "vision_model.encoder.layers.4.self_attn.v_proj.bias torch.Size([768])\n",
      "vision_model.encoder.layers.4.self_attn.q_proj.weight torch.Size([768, 768])\n",
      "vision_model.encoder.layers.4.self_attn.q_proj.bias torch.Size([768])\n",
      "vision_model.encoder.layers.4.self_attn.out_proj.weight torch.Size([768, 768])\n",
      "vision_model.encoder.layers.4.self_attn.out_proj.bias torch.Size([768])\n",
      "vision_model.encoder.layers.4.layer_norm1.weight torch.Size([768])\n",
      "vision_model.encoder.layers.4.layer_norm1.bias torch.Size([768])\n",
      "vision_model.encoder.layers.4.mlp.fc1.weight torch.Size([3072, 768])\n",
      "vision_model.encoder.layers.4.mlp.fc1.bias torch.Size([3072])\n",
      "vision_model.encoder.layers.4.mlp.fc2.weight torch.Size([768, 3072])\n",
      "vision_model.encoder.layers.4.mlp.fc2.bias torch.Size([768])\n",
      "vision_model.encoder.layers.4.layer_norm2.weight torch.Size([768])\n",
      "vision_model.encoder.layers.4.layer_norm2.bias torch.Size([768])\n",
      "vision_model.encoder.layers.5.self_attn.k_proj.weight torch.Size([768, 768])\n",
      "vision_model.encoder.layers.5.self_attn.k_proj.bias torch.Size([768])\n",
      "vision_model.encoder.layers.5.self_attn.v_proj.weight torch.Size([768, 768])\n",
      "vision_model.encoder.layers.5.self_attn.v_proj.bias torch.Size([768])\n",
      "vision_model.encoder.layers.5.self_attn.q_proj.weight torch.Size([768, 768])\n",
      "vision_model.encoder.layers.5.self_attn.q_proj.bias torch.Size([768])\n",
      "vision_model.encoder.layers.5.self_attn.out_proj.weight torch.Size([768, 768])\n",
      "vision_model.encoder.layers.5.self_attn.out_proj.bias torch.Size([768])\n",
      "vision_model.encoder.layers.5.layer_norm1.weight torch.Size([768])\n",
      "vision_model.encoder.layers.5.layer_norm1.bias torch.Size([768])\n",
      "vision_model.encoder.layers.5.mlp.fc1.weight torch.Size([3072, 768])\n",
      "vision_model.encoder.layers.5.mlp.fc1.bias torch.Size([3072])\n",
      "vision_model.encoder.layers.5.mlp.fc2.weight torch.Size([768, 3072])\n",
      "vision_model.encoder.layers.5.mlp.fc2.bias torch.Size([768])\n",
      "vision_model.encoder.layers.5.layer_norm2.weight torch.Size([768])\n",
      "vision_model.encoder.layers.5.layer_norm2.bias torch.Size([768])\n",
      "vision_model.encoder.layers.6.self_attn.k_proj.weight torch.Size([768, 768])\n",
      "vision_model.encoder.layers.6.self_attn.k_proj.bias torch.Size([768])\n",
      "vision_model.encoder.layers.6.self_attn.v_proj.weight torch.Size([768, 768])\n",
      "vision_model.encoder.layers.6.self_attn.v_proj.bias torch.Size([768])\n",
      "vision_model.encoder.layers.6.self_attn.q_proj.weight torch.Size([768, 768])\n",
      "vision_model.encoder.layers.6.self_attn.q_proj.bias torch.Size([768])\n",
      "vision_model.encoder.layers.6.self_attn.out_proj.weight torch.Size([768, 768])\n",
      "vision_model.encoder.layers.6.self_attn.out_proj.bias torch.Size([768])\n",
      "vision_model.encoder.layers.6.layer_norm1.weight torch.Size([768])\n",
      "vision_model.encoder.layers.6.layer_norm1.bias torch.Size([768])\n",
      "vision_model.encoder.layers.6.mlp.fc1.weight torch.Size([3072, 768])\n",
      "vision_model.encoder.layers.6.mlp.fc1.bias torch.Size([3072])\n",
      "vision_model.encoder.layers.6.mlp.fc2.weight torch.Size([768, 3072])\n",
      "vision_model.encoder.layers.6.mlp.fc2.bias torch.Size([768])\n",
      "vision_model.encoder.layers.6.layer_norm2.weight torch.Size([768])\n",
      "vision_model.encoder.layers.6.layer_norm2.bias torch.Size([768])\n",
      "vision_model.encoder.layers.7.self_attn.k_proj.weight torch.Size([768, 768])\n",
      "vision_model.encoder.layers.7.self_attn.k_proj.bias torch.Size([768])\n",
      "vision_model.encoder.layers.7.self_attn.v_proj.weight torch.Size([768, 768])\n",
      "vision_model.encoder.layers.7.self_attn.v_proj.bias torch.Size([768])\n",
      "vision_model.encoder.layers.7.self_attn.q_proj.weight torch.Size([768, 768])\n",
      "vision_model.encoder.layers.7.self_attn.q_proj.bias torch.Size([768])\n",
      "vision_model.encoder.layers.7.self_attn.out_proj.weight torch.Size([768, 768])\n",
      "vision_model.encoder.layers.7.self_attn.out_proj.bias torch.Size([768])\n",
      "vision_model.encoder.layers.7.layer_norm1.weight torch.Size([768])\n",
      "vision_model.encoder.layers.7.layer_norm1.bias torch.Size([768])\n",
      "vision_model.encoder.layers.7.mlp.fc1.weight torch.Size([3072, 768])\n",
      "vision_model.encoder.layers.7.mlp.fc1.bias torch.Size([3072])\n",
      "vision_model.encoder.layers.7.mlp.fc2.weight torch.Size([768, 3072])\n",
      "vision_model.encoder.layers.7.mlp.fc2.bias torch.Size([768])\n",
      "vision_model.encoder.layers.7.layer_norm2.weight torch.Size([768])\n",
      "vision_model.encoder.layers.7.layer_norm2.bias torch.Size([768])\n",
      "vision_model.encoder.layers.8.self_attn.k_proj.weight torch.Size([768, 768])\n",
      "vision_model.encoder.layers.8.self_attn.k_proj.bias torch.Size([768])\n",
      "vision_model.encoder.layers.8.self_attn.v_proj.weight torch.Size([768, 768])\n",
      "vision_model.encoder.layers.8.self_attn.v_proj.bias torch.Size([768])\n",
      "vision_model.encoder.layers.8.self_attn.q_proj.weight torch.Size([768, 768])\n",
      "vision_model.encoder.layers.8.self_attn.q_proj.bias torch.Size([768])\n",
      "vision_model.encoder.layers.8.self_attn.out_proj.weight torch.Size([768, 768])\n",
      "vision_model.encoder.layers.8.self_attn.out_proj.bias torch.Size([768])\n",
      "vision_model.encoder.layers.8.layer_norm1.weight torch.Size([768])\n",
      "vision_model.encoder.layers.8.layer_norm1.bias torch.Size([768])\n",
      "vision_model.encoder.layers.8.mlp.fc1.weight torch.Size([3072, 768])\n",
      "vision_model.encoder.layers.8.mlp.fc1.bias torch.Size([3072])\n",
      "vision_model.encoder.layers.8.mlp.fc2.weight torch.Size([768, 3072])\n",
      "vision_model.encoder.layers.8.mlp.fc2.bias torch.Size([768])\n",
      "vision_model.encoder.layers.8.layer_norm2.weight torch.Size([768])\n",
      "vision_model.encoder.layers.8.layer_norm2.bias torch.Size([768])\n",
      "vision_model.encoder.layers.9.self_attn.k_proj.weight torch.Size([768, 768])\n",
      "vision_model.encoder.layers.9.self_attn.k_proj.bias torch.Size([768])\n",
      "vision_model.encoder.layers.9.self_attn.v_proj.weight torch.Size([768, 768])\n",
      "vision_model.encoder.layers.9.self_attn.v_proj.bias torch.Size([768])\n",
      "vision_model.encoder.layers.9.self_attn.q_proj.weight torch.Size([768, 768])\n",
      "vision_model.encoder.layers.9.self_attn.q_proj.bias torch.Size([768])\n",
      "vision_model.encoder.layers.9.self_attn.out_proj.weight torch.Size([768, 768])\n",
      "vision_model.encoder.layers.9.self_attn.out_proj.bias torch.Size([768])\n",
      "vision_model.encoder.layers.9.layer_norm1.weight torch.Size([768])\n",
      "vision_model.encoder.layers.9.layer_norm1.bias torch.Size([768])\n",
      "vision_model.encoder.layers.9.mlp.fc1.weight torch.Size([3072, 768])\n",
      "vision_model.encoder.layers.9.mlp.fc1.bias torch.Size([3072])\n",
      "vision_model.encoder.layers.9.mlp.fc2.weight torch.Size([768, 3072])\n",
      "vision_model.encoder.layers.9.mlp.fc2.bias torch.Size([768])\n",
      "vision_model.encoder.layers.9.layer_norm2.weight torch.Size([768])\n",
      "vision_model.encoder.layers.9.layer_norm2.bias torch.Size([768])\n",
      "vision_model.encoder.layers.10.self_attn.k_proj.weight torch.Size([768, 768])\n",
      "vision_model.encoder.layers.10.self_attn.k_proj.bias torch.Size([768])\n",
      "vision_model.encoder.layers.10.self_attn.v_proj.weight torch.Size([768, 768])\n",
      "vision_model.encoder.layers.10.self_attn.v_proj.bias torch.Size([768])\n",
      "vision_model.encoder.layers.10.self_attn.q_proj.weight torch.Size([768, 768])\n",
      "vision_model.encoder.layers.10.self_attn.q_proj.bias torch.Size([768])\n",
      "vision_model.encoder.layers.10.self_attn.out_proj.weight torch.Size([768, 768])\n",
      "vision_model.encoder.layers.10.self_attn.out_proj.bias torch.Size([768])\n",
      "vision_model.encoder.layers.10.layer_norm1.weight torch.Size([768])\n",
      "vision_model.encoder.layers.10.layer_norm1.bias torch.Size([768])\n",
      "vision_model.encoder.layers.10.mlp.fc1.weight torch.Size([3072, 768])\n",
      "vision_model.encoder.layers.10.mlp.fc1.bias torch.Size([3072])\n",
      "vision_model.encoder.layers.10.mlp.fc2.weight torch.Size([768, 3072])\n",
      "vision_model.encoder.layers.10.mlp.fc2.bias torch.Size([768])\n",
      "vision_model.encoder.layers.10.layer_norm2.weight torch.Size([768])\n",
      "vision_model.encoder.layers.10.layer_norm2.bias torch.Size([768])\n",
      "vision_model.encoder.layers.11.self_attn.k_proj.weight torch.Size([768, 768])\n",
      "vision_model.encoder.layers.11.self_attn.k_proj.bias torch.Size([768])\n",
      "vision_model.encoder.layers.11.self_attn.v_proj.weight torch.Size([768, 768])\n",
      "vision_model.encoder.layers.11.self_attn.v_proj.bias torch.Size([768])\n",
      "vision_model.encoder.layers.11.self_attn.q_proj.weight torch.Size([768, 768])\n",
      "vision_model.encoder.layers.11.self_attn.q_proj.bias torch.Size([768])\n",
      "vision_model.encoder.layers.11.self_attn.out_proj.weight torch.Size([768, 768])\n",
      "vision_model.encoder.layers.11.self_attn.out_proj.bias torch.Size([768])\n",
      "vision_model.encoder.layers.11.layer_norm1.weight torch.Size([768])\n",
      "vision_model.encoder.layers.11.layer_norm1.bias torch.Size([768])\n",
      "vision_model.encoder.layers.11.mlp.fc1.weight torch.Size([3072, 768])\n",
      "vision_model.encoder.layers.11.mlp.fc1.bias torch.Size([3072])\n",
      "vision_model.encoder.layers.11.mlp.fc2.weight torch.Size([768, 3072])\n",
      "vision_model.encoder.layers.11.mlp.fc2.bias torch.Size([768])\n",
      "vision_model.encoder.layers.11.layer_norm2.weight torch.Size([768])\n",
      "vision_model.encoder.layers.11.layer_norm2.bias torch.Size([768])\n",
      "vision_model.post_layernorm.weight torch.Size([768])\n",
      "vision_model.post_layernorm.bias torch.Size([768])\n"
     ]
    }
   ],
   "source": [
    "for name, param in model.named_parameters():\n",
    "    print(name, param.shape)\n"
   ]
  },
  {
   "cell_type": "code",
   "execution_count": 9,
   "metadata": {},
   "outputs": [],
   "source": [
    "from PIL import Image\n",
    "import requests\n",
    "url = \"http://images.cocodataset.org/val2017/000000039769.jpg\"\n",
    "image = Image.open(requests.get(url, stream=True).raw)"
   ]
  },
  {
   "cell_type": "code",
   "execution_count": 10,
   "metadata": {},
   "outputs": [],
   "source": [
    "inputs = processor(images=image, return_tensors=\"pt\")"
   ]
  },
  {
   "cell_type": "code",
   "execution_count": 29,
   "metadata": {},
   "outputs": [
    {
     "data": {
      "text/plain": [
       "torch.Size([1, 3, 224, 224])"
      ]
     },
     "execution_count": 29,
     "metadata": {},
     "output_type": "execute_result"
    }
   ],
   "source": [
    "inputs['pixel_values'].shape"
   ]
  },
  {
   "cell_type": "code",
   "execution_count": 26,
   "metadata": {},
   "outputs": [
    {
     "data": {
      "text/plain": [
       "transformers.tokenization_utils_base.BatchEncoding"
      ]
     },
     "execution_count": 26,
     "metadata": {},
     "output_type": "execute_result"
    }
   ],
   "source": [
    "type(inputs)"
   ]
  },
  {
   "cell_type": "code",
   "execution_count": 30,
   "metadata": {},
   "outputs": [],
   "source": [
    "outputs = model(inputs['pixel_values'])"
   ]
  },
  {
   "cell_type": "code",
   "execution_count": 31,
   "metadata": {},
   "outputs": [
    {
     "data": {
      "text/plain": [
       "transformers.modeling_outputs.BaseModelOutputWithPooling"
      ]
     },
     "execution_count": 31,
     "metadata": {},
     "output_type": "execute_result"
    }
   ],
   "source": [
    "type(outputs)"
   ]
  },
  {
   "cell_type": "code",
   "execution_count": 32,
   "metadata": {},
   "outputs": [
    {
     "data": {
      "text/plain": [
       "torch.Tensor"
      ]
     },
     "execution_count": 32,
     "metadata": {},
     "output_type": "execute_result"
    }
   ],
   "source": [
    "type(outputs.last_hidden_state)"
   ]
  },
  {
   "cell_type": "code",
   "execution_count": 33,
   "metadata": {},
   "outputs": [
    {
     "data": {
      "text/plain": [
       "torch.Size([1, 50, 768])"
      ]
     },
     "execution_count": 33,
     "metadata": {},
     "output_type": "execute_result"
    }
   ],
   "source": [
    "outputs.last_hidden_state.shape"
   ]
  },
  {
   "cell_type": "code",
   "execution_count": 35,
   "metadata": {},
   "outputs": [
    {
     "data": {
      "text/plain": [
       "torch.Size([1, 768])"
      ]
     },
     "execution_count": 35,
     "metadata": {},
     "output_type": "execute_result"
    }
   ],
   "source": [
    "outputs.pooler_output.shape"
   ]
  },
  {
   "cell_type": "code",
   "execution_count": 37,
   "metadata": {},
   "outputs": [
    {
     "name": "stderr",
     "output_type": "stream",
     "text": [
      "Some weights of CLIPForImageClassification were not initialized from the model checkpoint at openai/clip-vit-base-patch32 and are newly initialized: ['classifier.bias', 'classifier.weight']\n",
      "You should probably TRAIN this model on a down-stream task to be able to use it for predictions and inference.\n"
     ]
    }
   ],
   "source": [
    "classifier = CLIPForImageClassification.from_pretrained(\"openai/clip-vit-base-patch32\")\n"
   ]
  },
  {
   "cell_type": "code",
   "execution_count": 38,
   "metadata": {},
   "outputs": [
    {
     "name": "stderr",
     "output_type": "stream",
     "text": [
      "Some weights of CLIPForImageClassification were not initialized from the model checkpoint at openai/clip-vit-base-patch32 and are newly initialized: ['classifier.bias', 'classifier.weight']\n",
      "You should probably TRAIN this model on a down-stream task to be able to use it for predictions and inference.\n"
     ]
    }
   ],
   "source": [
    "classifier = CLIPForImageClassification.from_pretrained(\"openai/clip-vit-base-patch32\", num_labels=2)"
   ]
  },
  {
   "cell_type": "code",
   "execution_count": 39,
   "metadata": {},
   "outputs": [
    {
     "data": {
      "text/plain": [
       "CLIPConfig {\n",
       "  \"_attn_implementation_autoset\": true,\n",
       "  \"architectures\": [\n",
       "    \"CLIPModel\"\n",
       "  ],\n",
       "  \"initializer_factor\": 1.0,\n",
       "  \"logit_scale_init_value\": 2.6592,\n",
       "  \"model_type\": \"clip\",\n",
       "  \"projection_dim\": 512,\n",
       "  \"text_config\": {\n",
       "    \"attention_dropout\": 0.0,\n",
       "    \"bos_token_id\": 0,\n",
       "    \"dropout\": 0.0,\n",
       "    \"eos_token_id\": 2,\n",
       "    \"hidden_act\": \"quick_gelu\",\n",
       "    \"hidden_size\": 512,\n",
       "    \"initializer_factor\": 1.0,\n",
       "    \"initializer_range\": 0.02,\n",
       "    \"intermediate_size\": 2048,\n",
       "    \"layer_norm_eps\": 1e-05,\n",
       "    \"max_position_embeddings\": 77,\n",
       "    \"model_type\": \"clip_text_model\",\n",
       "    \"num_attention_heads\": 8,\n",
       "    \"num_hidden_layers\": 12,\n",
       "    \"projection_dim\": 512,\n",
       "    \"torch_dtype\": \"float32\",\n",
       "    \"vocab_size\": 49408\n",
       "  },\n",
       "  \"torch_dtype\": \"float32\",\n",
       "  \"transformers_version\": \"4.50.0\",\n",
       "  \"vision_config\": {\n",
       "    \"attention_dropout\": 0.0,\n",
       "    \"dropout\": 0.0,\n",
       "    \"hidden_act\": \"quick_gelu\",\n",
       "    \"hidden_size\": 768,\n",
       "    \"image_size\": 224,\n",
       "    \"initializer_factor\": 1.0,\n",
       "    \"initializer_range\": 0.02,\n",
       "    \"intermediate_size\": 3072,\n",
       "    \"layer_norm_eps\": 1e-05,\n",
       "    \"model_type\": \"clip_vision_model\",\n",
       "    \"num_attention_heads\": 12,\n",
       "    \"num_channels\": 3,\n",
       "    \"num_hidden_layers\": 12,\n",
       "    \"patch_size\": 32,\n",
       "    \"projection_dim\": 512,\n",
       "    \"torch_dtype\": \"float32\"\n",
       "  }\n",
       "}"
      ]
     },
     "execution_count": 39,
     "metadata": {},
     "output_type": "execute_result"
    }
   ],
   "source": [
    "classifier.config"
   ]
  },
  {
   "cell_type": "code",
   "execution_count": 41,
   "metadata": {},
   "outputs": [],
   "source": [
    "with torch.no_grad(): \n",
    "    logits = classifier(**inputs).logits"
   ]
  },
  {
   "cell_type": "code",
   "execution_count": 42,
   "metadata": {},
   "outputs": [
    {
     "data": {
      "text/plain": [
       "tensor([[-0.3076, -0.3316]])"
      ]
     },
     "execution_count": 42,
     "metadata": {},
     "output_type": "execute_result"
    }
   ],
   "source": [
    "logits"
   ]
  },
  {
   "cell_type": "code",
   "execution_count": 43,
   "metadata": {},
   "outputs": [
    {
     "data": {
      "text/plain": [
       "<generator object Module.parameters at 0x7fe3c4227300>"
      ]
     },
     "execution_count": 43,
     "metadata": {},
     "output_type": "execute_result"
    }
   ],
   "source": [
    "classifier.parameters()"
   ]
  },
  {
   "cell_type": "code",
   "execution_count": null,
   "metadata": {},
   "outputs": [],
   "source": [
    "import lightning as L\n",
    "\n",
    "class CLIPImageClassifier(L.LightningModule):\n",
    "    def __init__(self, num_labels=2):\n",
    "        super().__init__()\n",
    "        self.model = CLIPForImageClassification.from_pretrained(\"openai/clip-vit-base-patch32\", num_labels=num_labels)\n",
    "        \n",
    "    def forward(self, pixel_values):\n",
    "        return self.model(pixel_values).logits\n",
    "    \n",
    "    def training_step(self, batch, batch_idx):\n",
    "        pixel_values = batch['pixel_values']\n",
    "        labels = batch['labels']\n",
    "        logits = self(pixel_values)\n",
    "        loss = self.model.compute_loss(logits, labels)\n",
    "        return loss\n",
    "    \n",
    "    def configure_optimizers(self):\n",
    "        return torch.optim.Adam(self.parameters(), lr=1e-5)"
   ]
  }
 ],
 "metadata": {
  "kernelspec": {
   "display_name": "Python 3",
   "language": "python",
   "name": "python3"
  },
  "language_info": {
   "codemirror_mode": {
    "name": "ipython",
    "version": 3
   },
   "file_extension": ".py",
   "mimetype": "text/x-python",
   "name": "python",
   "nbconvert_exporter": "python",
   "pygments_lexer": "ipython3",
   "version": "3.12.9"
  }
 },
 "nbformat": 4,
 "nbformat_minor": 2
}
