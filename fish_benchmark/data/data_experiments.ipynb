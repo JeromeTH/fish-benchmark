{
 "cells": [
  {
   "cell_type": "code",
   "execution_count": 20,
   "id": "275e0bb3",
   "metadata": {},
   "outputs": [],
   "source": [
    "import numpy as np\n",
    "import math\n",
    "\n",
    "\n",
    "class Patcher: \n",
    "    def __init__(self, patch_type, h, w):\n",
    "        assert patch_type in [\"absolute\", \"relative\"], f\"patch_type {patch_type} not recognized\"\n",
    "        # if patch_type == \"absolute\": h is the height of each patch, w is the width of each patch\n",
    "        # if patch_type == \"relative\": the full height of the image would be cut into h patches, and the full width of the image would be cut into w patches\n",
    "        self.patch_type = patch_type\n",
    "        self.h = h\n",
    "        self.w = w\n",
    "    \n",
    "    def pad_to_multiple_np(self, image: np.ndarray, h: int, w: int) -> np.ndarray:\n",
    "        \"\"\"\n",
    "        Pads a HWC (Height-Width-Channel) image so that its height is a multiple of h\n",
    "        and width is a multiple of w using 0-padding.\n",
    "\n",
    "        Args:\n",
    "            image (np.ndarray): Input image of shape (H, W, C)\n",
    "            h (int): Desired height multiple\n",
    "            w (int): Desired width multiple\n",
    "\n",
    "        Returns:\n",
    "            np.ndarray: Padded image\n",
    "        \"\"\"\n",
    "        H, W, C = image.shape\n",
    "        pad_h = (h - H % h) % h\n",
    "        pad_w = (w - W % w) % w\n",
    "        padding = ((0, pad_h), (0, pad_w), (0, 0))  # Pad bottom and right\n",
    "        return np.pad(image, padding, mode='constant', constant_values=0)\n",
    "\n",
    "    def patch(self, img, h, w):\n",
    "        img = self.pad_to_multiple_np(img, h, w)\n",
    "        return img.reshape(-1, h, w, img.shape[2])\n",
    "    \n",
    "    def __call__(self, img):\n",
    "        if self.patch_type == \"absolute\":\n",
    "            return self.patch(img, self.h, self.w)\n",
    "        elif self.patch_type == \"relative\":\n",
    "            # Split the image into patches\n",
    "            h = math.ceil(img.shape[0] / self.h) #h is the \n",
    "            w = math.ceil(img.shape[1] / self.w)\n",
    "            print((h, w))\n",
    "            return self.patch(img, h, w)"
   ]
  },
  {
   "cell_type": "code",
   "execution_count": 21,
   "id": "2660fa5a",
   "metadata": {},
   "outputs": [
    {
     "name": "stdout",
     "output_type": "stream",
     "text": [
      "(21, 51)\n",
      "(10, 21, 51, 3)\n"
     ]
    }
   ],
   "source": [
    "img = np.random.rand(101, 101, 3)  # Example image\n",
    "patcher = Patcher(patch_type=\"relative\", h=5, w=2)\n",
    "patches = patcher(img)\n",
    "print(patches.shape)  # Should print (100, 10, 10, 3) if the image is padded correctly"
   ]
  }
 ],
 "metadata": {
  "kernelspec": {
   "display_name": "Python 3",
   "language": "python",
   "name": "python3"
  },
  "language_info": {
   "codemirror_mode": {
    "name": "ipython",
    "version": 3
   },
   "file_extension": ".py",
   "mimetype": "text/x-python",
   "name": "python",
   "nbconvert_exporter": "python",
   "pygments_lexer": "ipython3",
   "version": "3.12.9"
  }
 },
 "nbformat": 4,
 "nbformat_minor": 5
}
